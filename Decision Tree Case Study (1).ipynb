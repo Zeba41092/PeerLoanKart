{
 "cells": [
  {
   "cell_type": "markdown",
   "id": "7a4716a9-60d8-4458-acc2-f313e76d2f09",
   "metadata": {},
   "source": [
    "# Problem statement: \n",
    "PeerLoanKart is an NBFC (non-banking financial company) that facilitates peer-to-peer loans. It connects people who need money (borrowers) with people who have money (investors). As an investor, you would want to invest in people who showed a profile of having a high probability of paying you back. Create a model that will help predict whether a borrower will repay the loan.\n",
    "# Analysis to be done: \n",
    "\n",
    "Increase profits by up to 20% as NPAs will be reduced due to loan disbursal to creditworthy borrowers only"
   ]
  },
  {
   "cell_type": "code",
   "execution_count": 2,
   "id": "82aba2d0-0e00-49b0-8a34-b6fd013abf1c",
   "metadata": {},
   "outputs": [],
   "source": [
    "# import libraries\n",
    "import pandas as pd\n",
    "import matplotlib.pyplot as plt\n",
    "import numpy as np \n",
    "import seaborn as sns"
   ]
  },
  {
   "cell_type": "code",
   "execution_count": 3,
   "id": "0da77626-cfd0-4c4c-baee-9351431cffbf",
   "metadata": {},
   "outputs": [
    {
     "data": {
      "text/html": [
       "<div>\n",
       "<style scoped>\n",
       "    .dataframe tbody tr th:only-of-type {\n",
       "        vertical-align: middle;\n",
       "    }\n",
       "\n",
       "    .dataframe tbody tr th {\n",
       "        vertical-align: top;\n",
       "    }\n",
       "\n",
       "    .dataframe thead th {\n",
       "        text-align: right;\n",
       "    }\n",
       "</style>\n",
       "<table border=\"1\" class=\"dataframe\">\n",
       "  <thead>\n",
       "    <tr style=\"text-align: right;\">\n",
       "      <th></th>\n",
       "      <th>credit.policy</th>\n",
       "      <th>purpose</th>\n",
       "      <th>int.rate</th>\n",
       "      <th>installment</th>\n",
       "      <th>log.annual.inc</th>\n",
       "      <th>dti</th>\n",
       "      <th>fico</th>\n",
       "      <th>days.with.cr.line</th>\n",
       "      <th>revol.bal</th>\n",
       "      <th>revol.util</th>\n",
       "      <th>inq.last.6mths</th>\n",
       "      <th>delinq.2yrs</th>\n",
       "      <th>pub.rec</th>\n",
       "      <th>not.fully.paid</th>\n",
       "    </tr>\n",
       "  </thead>\n",
       "  <tbody>\n",
       "    <tr>\n",
       "      <th>0</th>\n",
       "      <td>1</td>\n",
       "      <td>debt_consolidation</td>\n",
       "      <td>0.1189</td>\n",
       "      <td>829.10</td>\n",
       "      <td>11.350407</td>\n",
       "      <td>19.48</td>\n",
       "      <td>737</td>\n",
       "      <td>5639.958333</td>\n",
       "      <td>28854</td>\n",
       "      <td>52.1</td>\n",
       "      <td>0</td>\n",
       "      <td>0</td>\n",
       "      <td>0</td>\n",
       "      <td>0</td>\n",
       "    </tr>\n",
       "    <tr>\n",
       "      <th>1</th>\n",
       "      <td>1</td>\n",
       "      <td>credit_card</td>\n",
       "      <td>0.1071</td>\n",
       "      <td>228.22</td>\n",
       "      <td>11.082143</td>\n",
       "      <td>14.29</td>\n",
       "      <td>707</td>\n",
       "      <td>2760.000000</td>\n",
       "      <td>33623</td>\n",
       "      <td>76.7</td>\n",
       "      <td>0</td>\n",
       "      <td>0</td>\n",
       "      <td>0</td>\n",
       "      <td>0</td>\n",
       "    </tr>\n",
       "    <tr>\n",
       "      <th>2</th>\n",
       "      <td>1</td>\n",
       "      <td>debt_consolidation</td>\n",
       "      <td>0.1357</td>\n",
       "      <td>366.86</td>\n",
       "      <td>10.373491</td>\n",
       "      <td>11.63</td>\n",
       "      <td>682</td>\n",
       "      <td>4710.000000</td>\n",
       "      <td>3511</td>\n",
       "      <td>25.6</td>\n",
       "      <td>1</td>\n",
       "      <td>0</td>\n",
       "      <td>0</td>\n",
       "      <td>0</td>\n",
       "    </tr>\n",
       "    <tr>\n",
       "      <th>3</th>\n",
       "      <td>1</td>\n",
       "      <td>debt_consolidation</td>\n",
       "      <td>0.1008</td>\n",
       "      <td>162.34</td>\n",
       "      <td>11.350407</td>\n",
       "      <td>8.10</td>\n",
       "      <td>712</td>\n",
       "      <td>2699.958333</td>\n",
       "      <td>33667</td>\n",
       "      <td>73.2</td>\n",
       "      <td>1</td>\n",
       "      <td>0</td>\n",
       "      <td>0</td>\n",
       "      <td>0</td>\n",
       "    </tr>\n",
       "    <tr>\n",
       "      <th>4</th>\n",
       "      <td>1</td>\n",
       "      <td>credit_card</td>\n",
       "      <td>0.1426</td>\n",
       "      <td>102.92</td>\n",
       "      <td>11.299732</td>\n",
       "      <td>14.97</td>\n",
       "      <td>667</td>\n",
       "      <td>4066.000000</td>\n",
       "      <td>4740</td>\n",
       "      <td>39.5</td>\n",
       "      <td>0</td>\n",
       "      <td>1</td>\n",
       "      <td>0</td>\n",
       "      <td>0</td>\n",
       "    </tr>\n",
       "  </tbody>\n",
       "</table>\n",
       "</div>"
      ],
      "text/plain": [
       "   credit.policy             purpose  int.rate  installment  log.annual.inc  \\\n",
       "0              1  debt_consolidation    0.1189       829.10       11.350407   \n",
       "1              1         credit_card    0.1071       228.22       11.082143   \n",
       "2              1  debt_consolidation    0.1357       366.86       10.373491   \n",
       "3              1  debt_consolidation    0.1008       162.34       11.350407   \n",
       "4              1         credit_card    0.1426       102.92       11.299732   \n",
       "\n",
       "     dti  fico  days.with.cr.line  revol.bal  revol.util  inq.last.6mths  \\\n",
       "0  19.48   737        5639.958333      28854        52.1               0   \n",
       "1  14.29   707        2760.000000      33623        76.7               0   \n",
       "2  11.63   682        4710.000000       3511        25.6               1   \n",
       "3   8.10   712        2699.958333      33667        73.2               1   \n",
       "4  14.97   667        4066.000000       4740        39.5               0   \n",
       "\n",
       "   delinq.2yrs  pub.rec  not.fully.paid  \n",
       "0            0        0               0  \n",
       "1            0        0               0  \n",
       "2            0        0               0  \n",
       "3            0        0               0  \n",
       "4            1        0               0  "
      ]
     },
     "execution_count": 3,
     "metadata": {},
     "output_type": "execute_result"
    }
   ],
   "source": [
    "loan = pd.read_csv('loan_borowwer_data.csv')\n",
    "loan.head()"
   ]
  },
  {
   "cell_type": "code",
   "execution_count": 4,
   "id": "7436828a-e3bd-4391-8fef-4f501e4ebacb",
   "metadata": {},
   "outputs": [
    {
     "data": {
      "text/plain": [
       "Index(['credit.policy', 'purpose', 'int.rate', 'installment', 'log.annual.inc',\n",
       "       'dti', 'fico', 'days.with.cr.line', 'revol.bal', 'revol.util',\n",
       "       'inq.last.6mths', 'delinq.2yrs', 'pub.rec', 'not.fully.paid'],\n",
       "      dtype='object')"
      ]
     },
     "execution_count": 4,
     "metadata": {},
     "output_type": "execute_result"
    }
   ],
   "source": [
    "# lets first do the understanding of data\n",
    "loan.columns"
   ]
  },
  {
   "cell_type": "code",
   "execution_count": 5,
   "id": "fa527d6b-c292-444c-97fb-0137e336ef07",
   "metadata": {},
   "outputs": [
    {
     "data": {
      "text/plain": [
       "(9578, 14)"
      ]
     },
     "execution_count": 5,
     "metadata": {},
     "output_type": "execute_result"
    }
   ],
   "source": [
    "loan.shape"
   ]
  },
  {
   "cell_type": "code",
   "execution_count": 6,
   "id": "26196aee-e7d5-41ab-86e0-10fd974d5d1f",
   "metadata": {},
   "outputs": [
    {
     "data": {
      "text/plain": [
       "False    9578\n",
       "dtype: int64"
      ]
     },
     "execution_count": 6,
     "metadata": {},
     "output_type": "execute_result"
    }
   ],
   "source": [
    "loan.duplicated().value_counts()"
   ]
  },
  {
   "cell_type": "code",
   "execution_count": 7,
   "id": "d5ecbc9d-2457-4dc5-970b-c3a165b3646d",
   "metadata": {},
   "outputs": [
    {
     "data": {
      "text/html": [
       "<div>\n",
       "<style scoped>\n",
       "    .dataframe tbody tr th:only-of-type {\n",
       "        vertical-align: middle;\n",
       "    }\n",
       "\n",
       "    .dataframe tbody tr th {\n",
       "        vertical-align: top;\n",
       "    }\n",
       "\n",
       "    .dataframe thead th {\n",
       "        text-align: right;\n",
       "    }\n",
       "</style>\n",
       "<table border=\"1\" class=\"dataframe\">\n",
       "  <thead>\n",
       "    <tr style=\"text-align: right;\">\n",
       "      <th></th>\n",
       "      <th>credit.policy</th>\n",
       "      <th>int.rate</th>\n",
       "      <th>installment</th>\n",
       "      <th>log.annual.inc</th>\n",
       "      <th>dti</th>\n",
       "      <th>fico</th>\n",
       "      <th>days.with.cr.line</th>\n",
       "      <th>revol.bal</th>\n",
       "      <th>revol.util</th>\n",
       "      <th>inq.last.6mths</th>\n",
       "      <th>delinq.2yrs</th>\n",
       "      <th>pub.rec</th>\n",
       "      <th>not.fully.paid</th>\n",
       "    </tr>\n",
       "  </thead>\n",
       "  <tbody>\n",
       "    <tr>\n",
       "      <th>count</th>\n",
       "      <td>9578.000000</td>\n",
       "      <td>9578.000000</td>\n",
       "      <td>9578.000000</td>\n",
       "      <td>9578.000000</td>\n",
       "      <td>9578.000000</td>\n",
       "      <td>9578.000000</td>\n",
       "      <td>9578.000000</td>\n",
       "      <td>9.578000e+03</td>\n",
       "      <td>9578.000000</td>\n",
       "      <td>9578.000000</td>\n",
       "      <td>9578.000000</td>\n",
       "      <td>9578.000000</td>\n",
       "      <td>9578.000000</td>\n",
       "    </tr>\n",
       "    <tr>\n",
       "      <th>mean</th>\n",
       "      <td>0.804970</td>\n",
       "      <td>0.122640</td>\n",
       "      <td>319.089413</td>\n",
       "      <td>10.932117</td>\n",
       "      <td>12.606679</td>\n",
       "      <td>710.846314</td>\n",
       "      <td>4560.767197</td>\n",
       "      <td>1.691396e+04</td>\n",
       "      <td>46.799236</td>\n",
       "      <td>1.577469</td>\n",
       "      <td>0.163708</td>\n",
       "      <td>0.062122</td>\n",
       "      <td>0.160054</td>\n",
       "    </tr>\n",
       "    <tr>\n",
       "      <th>std</th>\n",
       "      <td>0.396245</td>\n",
       "      <td>0.026847</td>\n",
       "      <td>207.071301</td>\n",
       "      <td>0.614813</td>\n",
       "      <td>6.883970</td>\n",
       "      <td>37.970537</td>\n",
       "      <td>2496.930377</td>\n",
       "      <td>3.375619e+04</td>\n",
       "      <td>29.014417</td>\n",
       "      <td>2.200245</td>\n",
       "      <td>0.546215</td>\n",
       "      <td>0.262126</td>\n",
       "      <td>0.366676</td>\n",
       "    </tr>\n",
       "    <tr>\n",
       "      <th>min</th>\n",
       "      <td>0.000000</td>\n",
       "      <td>0.060000</td>\n",
       "      <td>15.670000</td>\n",
       "      <td>7.547502</td>\n",
       "      <td>0.000000</td>\n",
       "      <td>612.000000</td>\n",
       "      <td>178.958333</td>\n",
       "      <td>0.000000e+00</td>\n",
       "      <td>0.000000</td>\n",
       "      <td>0.000000</td>\n",
       "      <td>0.000000</td>\n",
       "      <td>0.000000</td>\n",
       "      <td>0.000000</td>\n",
       "    </tr>\n",
       "    <tr>\n",
       "      <th>25%</th>\n",
       "      <td>1.000000</td>\n",
       "      <td>0.103900</td>\n",
       "      <td>163.770000</td>\n",
       "      <td>10.558414</td>\n",
       "      <td>7.212500</td>\n",
       "      <td>682.000000</td>\n",
       "      <td>2820.000000</td>\n",
       "      <td>3.187000e+03</td>\n",
       "      <td>22.600000</td>\n",
       "      <td>0.000000</td>\n",
       "      <td>0.000000</td>\n",
       "      <td>0.000000</td>\n",
       "      <td>0.000000</td>\n",
       "    </tr>\n",
       "    <tr>\n",
       "      <th>50%</th>\n",
       "      <td>1.000000</td>\n",
       "      <td>0.122100</td>\n",
       "      <td>268.950000</td>\n",
       "      <td>10.928884</td>\n",
       "      <td>12.665000</td>\n",
       "      <td>707.000000</td>\n",
       "      <td>4139.958333</td>\n",
       "      <td>8.596000e+03</td>\n",
       "      <td>46.300000</td>\n",
       "      <td>1.000000</td>\n",
       "      <td>0.000000</td>\n",
       "      <td>0.000000</td>\n",
       "      <td>0.000000</td>\n",
       "    </tr>\n",
       "    <tr>\n",
       "      <th>75%</th>\n",
       "      <td>1.000000</td>\n",
       "      <td>0.140700</td>\n",
       "      <td>432.762500</td>\n",
       "      <td>11.291293</td>\n",
       "      <td>17.950000</td>\n",
       "      <td>737.000000</td>\n",
       "      <td>5730.000000</td>\n",
       "      <td>1.824950e+04</td>\n",
       "      <td>70.900000</td>\n",
       "      <td>2.000000</td>\n",
       "      <td>0.000000</td>\n",
       "      <td>0.000000</td>\n",
       "      <td>0.000000</td>\n",
       "    </tr>\n",
       "    <tr>\n",
       "      <th>max</th>\n",
       "      <td>1.000000</td>\n",
       "      <td>0.216400</td>\n",
       "      <td>940.140000</td>\n",
       "      <td>14.528354</td>\n",
       "      <td>29.960000</td>\n",
       "      <td>827.000000</td>\n",
       "      <td>17639.958330</td>\n",
       "      <td>1.207359e+06</td>\n",
       "      <td>119.000000</td>\n",
       "      <td>33.000000</td>\n",
       "      <td>13.000000</td>\n",
       "      <td>5.000000</td>\n",
       "      <td>1.000000</td>\n",
       "    </tr>\n",
       "  </tbody>\n",
       "</table>\n",
       "</div>"
      ],
      "text/plain": [
       "       credit.policy     int.rate  installment  log.annual.inc          dti  \\\n",
       "count    9578.000000  9578.000000  9578.000000     9578.000000  9578.000000   \n",
       "mean        0.804970     0.122640   319.089413       10.932117    12.606679   \n",
       "std         0.396245     0.026847   207.071301        0.614813     6.883970   \n",
       "min         0.000000     0.060000    15.670000        7.547502     0.000000   \n",
       "25%         1.000000     0.103900   163.770000       10.558414     7.212500   \n",
       "50%         1.000000     0.122100   268.950000       10.928884    12.665000   \n",
       "75%         1.000000     0.140700   432.762500       11.291293    17.950000   \n",
       "max         1.000000     0.216400   940.140000       14.528354    29.960000   \n",
       "\n",
       "              fico  days.with.cr.line     revol.bal   revol.util  \\\n",
       "count  9578.000000        9578.000000  9.578000e+03  9578.000000   \n",
       "mean    710.846314        4560.767197  1.691396e+04    46.799236   \n",
       "std      37.970537        2496.930377  3.375619e+04    29.014417   \n",
       "min     612.000000         178.958333  0.000000e+00     0.000000   \n",
       "25%     682.000000        2820.000000  3.187000e+03    22.600000   \n",
       "50%     707.000000        4139.958333  8.596000e+03    46.300000   \n",
       "75%     737.000000        5730.000000  1.824950e+04    70.900000   \n",
       "max     827.000000       17639.958330  1.207359e+06   119.000000   \n",
       "\n",
       "       inq.last.6mths  delinq.2yrs      pub.rec  not.fully.paid  \n",
       "count     9578.000000  9578.000000  9578.000000     9578.000000  \n",
       "mean         1.577469     0.163708     0.062122        0.160054  \n",
       "std          2.200245     0.546215     0.262126        0.366676  \n",
       "min          0.000000     0.000000     0.000000        0.000000  \n",
       "25%          0.000000     0.000000     0.000000        0.000000  \n",
       "50%          1.000000     0.000000     0.000000        0.000000  \n",
       "75%          2.000000     0.000000     0.000000        0.000000  \n",
       "max         33.000000    13.000000     5.000000        1.000000  "
      ]
     },
     "execution_count": 7,
     "metadata": {},
     "output_type": "execute_result"
    }
   ],
   "source": [
    "loan.describe()"
   ]
  },
  {
   "cell_type": "code",
   "execution_count": 8,
   "id": "8ccef2ca-5ed1-4a38-84c6-441560a8d770",
   "metadata": {},
   "outputs": [
    {
     "name": "stdout",
     "output_type": "stream",
     "text": [
      "<class 'pandas.core.frame.DataFrame'>\n",
      "RangeIndex: 9578 entries, 0 to 9577\n",
      "Data columns (total 14 columns):\n",
      " #   Column             Non-Null Count  Dtype  \n",
      "---  ------             --------------  -----  \n",
      " 0   credit.policy      9578 non-null   int64  \n",
      " 1   purpose            9578 non-null   object \n",
      " 2   int.rate           9578 non-null   float64\n",
      " 3   installment        9578 non-null   float64\n",
      " 4   log.annual.inc     9578 non-null   float64\n",
      " 5   dti                9578 non-null   float64\n",
      " 6   fico               9578 non-null   int64  \n",
      " 7   days.with.cr.line  9578 non-null   float64\n",
      " 8   revol.bal          9578 non-null   int64  \n",
      " 9   revol.util         9578 non-null   float64\n",
      " 10  inq.last.6mths     9578 non-null   int64  \n",
      " 11  delinq.2yrs        9578 non-null   int64  \n",
      " 12  pub.rec            9578 non-null   int64  \n",
      " 13  not.fully.paid     9578 non-null   int64  \n",
      "dtypes: float64(6), int64(7), object(1)\n",
      "memory usage: 1.0+ MB\n"
     ]
    }
   ],
   "source": [
    "loan.info()"
   ]
  },
  {
   "cell_type": "code",
   "execution_count": 9,
   "id": "482a341e-5caf-489d-a936-6dd25fe9efd7",
   "metadata": {},
   "outputs": [
    {
     "data": {
      "text/plain": [
       "credit.policy          int64\n",
       "purpose               object\n",
       "int.rate             float64\n",
       "installment          float64\n",
       "log.annual.inc       float64\n",
       "dti                  float64\n",
       "fico                   int64\n",
       "days.with.cr.line    float64\n",
       "revol.bal              int64\n",
       "revol.util           float64\n",
       "inq.last.6mths         int64\n",
       "delinq.2yrs            int64\n",
       "pub.rec                int64\n",
       "not.fully.paid         int64\n",
       "dtype: object"
      ]
     },
     "execution_count": 9,
     "metadata": {},
     "output_type": "execute_result"
    }
   ],
   "source": [
    "loan.dtypes"
   ]
  },
  {
   "cell_type": "markdown",
   "id": "8200a9d3-db93-4a6b-a0d2-b0e43938c6f6",
   "metadata": {},
   "source": [
    "Interpretation: we can see that purpose column is categorical which needs to convertin numerical"
   ]
  },
  {
   "cell_type": "code",
   "execution_count": 10,
   "id": "7ca38b0b-d5ac-4ef8-81c6-f68a13bcc73d",
   "metadata": {},
   "outputs": [
    {
     "data": {
      "text/plain": [
       "Text(0.5, 0, 'FICO')"
      ]
     },
     "execution_count": 10,
     "metadata": {},
     "output_type": "execute_result"
    },
    {
     "data": {
      "image/png": "[encoded data removed]",
      "text/plain": [
       "<Figure size 864x576 with 1 Axes>"
      ]
     },
     "metadata": {
      "needs_background": "light"
     },
     "output_type": "display_data"
    }
   ],
   "source": [
    "# lets apply EDA(Exploratory Data Analysis )\n",
    "plt.figure(figsize=(12,8))\n",
    "loan[loan['credit.policy']==1]['fico'].hist(alpha=0.5,color='blue', bins =40, label=\"Credict Policy=1\")\n",
    "loan[loan['credit.policy']==0]['fico'].hist(alpha=0.5,bins=40, color='green',label=\"credit policy=0\")\n",
    "plt.legend()\n",
    "plt.xlabel('FICO')"
   ]
  },
  {
   "cell_type": "code",
   "execution_count": 11,
   "id": "49d07e3d-fa98-4eda-b819-684f60a2f587",
   "metadata": {},
   "outputs": [
    {
     "data": {
      "text/plain": [
       "Text(0.5, 0, 'FICO')"
      ]
     },
     "execution_count": 11,
     "metadata": {},
     "output_type": "execute_result"
    },
    {
     "data": {
      "image/png": "[encoded data removed]",
      "text/plain": [
       "<Figure size 864x432 with 1 Axes>"
      ]
     },
     "metadata": {
      "needs_background": "light"
     },
     "output_type": "display_data"
    }
   ],
   "source": [
    "plt.figure(figsize=(12,6))\n",
    "loan[loan['not.fully.paid']==1]['fico'].hist(alpha=0.5,color='blue',bins=30,label=\"not fully paid=1\")\n",
    "\n",
    "loan[loan['not.fully.paid']==0]['fico'].hist(alpha=0.5,color='red',bins=30,label=\"not fully paid=0\")\n",
    "plt.legend()\n",
    "plt.xlabel(\"FICO\")"
   ]
  },
  {
   "cell_type": "code",
   "execution_count": 12,
   "id": "7e5f8a54-a992-4440-bc39-4b3ee6e0f749",
   "metadata": {},
   "outputs": [
    {
     "data": {
      "text/plain": [
       "<AxesSubplot: xlabel='purpose', ylabel='count'>"
      ]
     },
     "execution_count": 12,
     "metadata": {},
     "output_type": "execute_result"
    },
    {
     "data": {
      "image/png": "[encoded data removed]",
      "text/plain": [
       "<Figure size 864x432 with 1 Axes>"
      ]
     },
     "metadata": {
      "needs_background": "light"
     },
     "output_type": "display_data"
    }
   ],
   "source": [
    "#Create the coutplot\n",
    "plt.figure(figsize=(12,6))\n",
    "sns.countplot(x='purpose', hue='not.fully.paid',data=loan,palette='Set1')"
   ]
  },
  {
   "cell_type": "markdown",
   "id": "86053ae3-11c1-4999-938f-f846a131409d",
   "metadata": {},
   "source": [
    "lets perform the encoding to column purpose for categorical to numerical data"
   ]
  },
  {
   "cell_type": "code",
   "execution_count": 13,
   "id": "8d0fc49a-2e09-49e2-945a-148eb0425986",
   "metadata": {},
   "outputs": [
    {
     "data": {
      "text/plain": [
       "debt_consolidation    3957\n",
       "all_other             2331\n",
       "credit_card           1262\n",
       "home_improvement       629\n",
       "small_business         619\n",
       "major_purchase         437\n",
       "educational            343\n",
       "Name: purpose, dtype: int64"
      ]
     },
     "execution_count": 13,
     "metadata": {},
     "output_type": "execute_result"
    }
   ],
   "source": [
    "loan['purpose'].value_counts()"
   ]
  },
  {
   "cell_type": "code",
   "execution_count": 14,
   "id": "3e4daedd-132f-4515-a172-34395da4675f",
   "metadata": {},
   "outputs": [
    {
     "name": "stdout",
     "output_type": "stream",
     "text": [
      "<class 'pandas.core.frame.DataFrame'>\n",
      "RangeIndex: 9578 entries, 0 to 9577\n",
      "Data columns (total 19 columns):\n",
      " #   Column                      Non-Null Count  Dtype  \n",
      "---  ------                      --------------  -----  \n",
      " 0   credit.policy               9578 non-null   int64  \n",
      " 1   int.rate                    9578 non-null   float64\n",
      " 2   installment                 9578 non-null   float64\n",
      " 3   log.annual.inc              9578 non-null   float64\n",
      " 4   dti                         9578 non-null   float64\n",
      " 5   fico                        9578 non-null   int64  \n",
      " 6   days.with.cr.line           9578 non-null   float64\n",
      " 7   revol.bal                   9578 non-null   int64  \n",
      " 8   revol.util                  9578 non-null   float64\n",
      " 9   inq.last.6mths              9578 non-null   int64  \n",
      " 10  delinq.2yrs                 9578 non-null   int64  \n",
      " 11  pub.rec                     9578 non-null   int64  \n",
      " 12  not.fully.paid              9578 non-null   int64  \n",
      " 13  purpose_credit_card         9578 non-null   uint8  \n",
      " 14  purpose_debt_consolidation  9578 non-null   uint8  \n",
      " 15  purpose_educational         9578 non-null   uint8  \n",
      " 16  purpose_home_improvement    9578 non-null   uint8  \n",
      " 17  purpose_major_purchase      9578 non-null   uint8  \n",
      " 18  purpose_small_business      9578 non-null   uint8  \n",
      "dtypes: float64(6), int64(7), uint8(6)\n",
      "memory usage: 1.0 MB\n"
     ]
    }
   ],
   "source": [
    "# lets use pd.get_dummies for all above categories \n",
    "col=['purpose']\n",
    "final_data =pd.get_dummies(loan,columns=col,drop_first=True)\n",
    "final_data.info()"
   ]
  },
  {
   "cell_type": "markdown",
   "id": "0eb90d30-cbf1-4342-ae00-d7fe4902edea",
   "metadata": {},
   "source": [
    "Interpretation: here we use final data as the new data name, therefore it wont affect the original data loan, we will fed the dummies of purpose column to the new data."
   ]
  },
  {
   "cell_type": "markdown",
   "id": "210e784b-2ea9-44da-b244-a3ae1b6a9b21",
   "metadata": {},
   "source": [
    "# Train Test the data Set (Evaluation of Model )"
   ]
  },
  {
   "cell_type": "code",
   "execution_count": 15,
   "id": "d167142b-a4eb-4a04-8761-056b9b1f1d0c",
   "metadata": {},
   "outputs": [],
   "source": [
    "from sklearn.model_selection import train_test_split"
   ]
  },
  {
   "cell_type": "code",
   "execution_count": 16,
   "id": "1c46921b-03f7-4ae9-b39f-9a65a4955dc5",
   "metadata": {},
   "outputs": [],
   "source": [
    "X= final_data.drop('not.fully.paid',axis=1)\n",
    "y =final_data['not.fully.paid']"
   ]
  },
  {
   "cell_type": "code",
   "execution_count": 17,
   "id": "dea55f37-8b59-4b0f-804e-3f7b4c2a86c1",
   "metadata": {},
   "outputs": [
    {
     "name": "stdout",
     "output_type": "stream",
     "text": [
      "X shape: (9578, 18)\n",
      "y shape: (9578,)\n"
     ]
    }
   ],
   "source": [
    "print('X shape:',X.shape)\n",
    "print('y shape:',y.shape)"
   ]
  },
  {
   "cell_type": "code",
   "execution_count": 18,
   "id": "d0b2ab7a-6fef-4b22-824d-bd4a2b7bb42f",
   "metadata": {},
   "outputs": [],
   "source": [
    "x_train,x_test,y_train,y_test =train_test_split(X,y,test_size=0.3,random_state=23)"
   ]
  },
  {
   "cell_type": "code",
   "execution_count": 19,
   "id": "b0404f3e-8eb4-40d9-99c2-cf7bb0143316",
   "metadata": {},
   "outputs": [
    {
     "name": "stdout",
     "output_type": "stream",
     "text": [
      "x_train shape: (6704, 18)\n",
      "x_test shape: (2874, 18)\n",
      "y_train shape: (6704,)\n",
      "y_test shape: (2874,)\n"
     ]
    }
   ],
   "source": [
    "print('x_train shape:',x_train.shape)\n",
    "print('x_test shape:',x_test.shape)\n",
    "print('y_train shape:',y_train.shape)\n",
    "print('y_test shape:',y_test.shape)"
   ]
  },
  {
   "cell_type": "markdown",
   "id": "9db5d1b2-50e7-4347-a8e2-90e544bac9ac",
   "metadata": {},
   "source": [
    "# Training the Model Using Decision Tree with different function of Dicision Tress."
   ]
  },
  {
   "cell_type": "code",
   "execution_count": 20,
   "id": "dff90ed2-56a9-45d7-92a0-be82f40adacd",
   "metadata": {},
   "outputs": [],
   "source": [
    "from sklearn.tree import DecisionTreeClassifier\n",
    "from sklearn.metrics import classification_report, f1_score, confusion_matrix, precision_score,accuracy_score\n",
    "from sklearn.model_selection import cross_val_score, KFold"
   ]
  },
  {
   "cell_type": "markdown",
   "id": "832e82b2-90b1-4baa-8838-889f137362e6",
   "metadata": {},
   "source": [
    "# Lets try the criterion{“gini”} to understand any accuracy change"
   ]
  },
  {
   "cell_type": "code",
   "execution_count": 21,
   "id": "53cce9c0-752b-44d0-a80f-4578e0c5e18b",
   "metadata": {},
   "outputs": [
    {
     "data": {
      "text/html": [
       "<style>#sk-container-id-1 {color: black;background-color: white;}#sk-container-id-1 pre{padding: 0;}#sk-container-id-1 div.sk-toggleable {background-color: white;}#sk-container-id-1 label.sk-toggleable__label {cursor: pointer;display: block;width: 100%;margin-bottom: 0;padding: 0.3em;box-sizing: border-box;text-align: center;}#sk-container-id-1 label.sk-toggleable__label-arrow:before {content: \"▸\";float: left;margin-right: 0.25em;color: #696969;}#sk-container-id-1 label.sk-toggleable__label-arrow:hover:before {color: black;}#sk-container-id-1 div.sk-estimator:hover label.sk-toggleable__label-arrow:before {color: black;}#sk-container-id-1 div.sk-toggleable__content {max-height: 0;max-width: 0;overflow: hidden;text-align: left;background-color: #f0f8ff;}#sk-container-id-1 div.sk-toggleable__content pre {margin: 0.2em;color: black;border-radius: 0.25em;background-color: #f0f8ff;}#sk-container-id-1 input.sk-toggleable__control:checked~div.sk-toggleable__content {max-height: 200px;max-width: 100%;overflow: auto;}#sk-container-id-1 input.sk-toggleable__control:checked~label.sk-toggleable__label-arrow:before {content: \"▾\";}#sk-container-id-1 div.sk-estimator input.sk-toggleable__control:checked~label.sk-toggleable__label {background-color: #d4ebff;}#sk-container-id-1 div.sk-label input.sk-toggleable__control:checked~label.sk-toggleable__label {background-color: #d4ebff;}#sk-container-id-1 input.sk-hidden--visually {border: 0;clip: rect(1px 1px 1px 1px);clip: rect(1px, 1px, 1px, 1px);height: 1px;margin: -1px;overflow: hidden;padding: 0;position: absolute;width: 1px;}#sk-container-id-1 div.sk-estimator {font-family: monospace;background-color: #f0f8ff;border: 1px dotted black;border-radius: 0.25em;box-sizing: border-box;margin-bottom: 0.5em;}#sk-container-id-1 div.sk-estimator:hover {background-color: #d4ebff;}#sk-container-id-1 div.sk-parallel-item::after {content: \"\";width: 100%;border-bottom: 1px solid gray;flex-grow: 1;}#sk-container-id-1 div.sk-label:hover label.sk-toggleable__label {background-color: #d4ebff;}#sk-container-id-1 div.sk-serial::before {content: \"\";position: absolute;border-left: 1px solid gray;box-sizing: border-box;top: 0;bottom: 0;left: 50%;z-index: 0;}#sk-container-id-1 div.sk-serial {display: flex;flex-direction: column;align-items: center;background-color: white;padding-right: 0.2em;padding-left: 0.2em;position: relative;}#sk-container-id-1 div.sk-item {position: relative;z-index: 1;}#sk-container-id-1 div.sk-parallel {display: flex;align-items: stretch;justify-content: center;background-color: white;position: relative;}#sk-container-id-1 div.sk-item::before, #sk-container-id-1 div.sk-parallel-item::before {content: \"\";position: absolute;border-left: 1px solid gray;box-sizing: border-box;top: 0;bottom: 0;left: 50%;z-index: -1;}#sk-container-id-1 div.sk-parallel-item {display: flex;flex-direction: column;z-index: 1;position: relative;background-color: white;}#sk-container-id-1 div.sk-parallel-item:first-child::after {align-self: flex-end;width: 50%;}#sk-container-id-1 div.sk-parallel-item:last-child::after {align-self: flex-start;width: 50%;}#sk-container-id-1 div.sk-parallel-item:only-child::after {width: 0;}#sk-container-id-1 div.sk-dashed-wrapped {border: 1px dashed gray;margin: 0 0.4em 0.5em 0.4em;box-sizing: border-box;padding-bottom: 0.4em;background-color: white;}#sk-container-id-1 div.sk-label label {font-family: monospace;font-weight: bold;display: inline-block;line-height: 1.2em;}#sk-container-id-1 div.sk-label-container {text-align: center;}#sk-container-id-1 div.sk-container {/* jupyter's `normalize.less` sets `[hidden] { display: none; }` but bootstrap.min.css set `[hidden] { display: none !important; }` so we also need the `!important` here to be able to override the default hidden behavior on the sphinx rendered scikit-learn.org. See: https://github.com/scikit-learn/scikit-learn/issues/21755 */display: inline-block !important;position: relative;}#sk-container-id-1 div.sk-text-repr-fallback {display: none;}</style><div id=\"sk-container-id-1\" class=\"sk-top-container\"><div class=\"sk-text-repr-fallback\"><pre>DecisionTreeClassifier(max_depth=7, max_leaf_nodes=100, random_state=50)</pre><b>In a Jupyter environment, please rerun this cell to show the HTML representation or trust the notebook. <br />On GitHub, the HTML representation is unable to render, please try loading this page with nbviewer.org.</b></div><div class=\"sk-container\" hidden><div class=\"sk-item\"><div class=\"sk-estimator sk-toggleable\"><input class=\"sk-toggleable__control sk-hidden--visually\" id=\"sk-estimator-id-1\" type=\"checkbox\" checked><label for=\"sk-estimator-id-1\" class=\"sk-toggleable__label sk-toggleable__label-arrow\">DecisionTreeClassifier</label><div class=\"sk-toggleable__content\"><pre>DecisionTreeClassifier(max_depth=7, max_leaf_nodes=100, random_state=50)</pre></div></div></div></div></div>"
      ],
      "text/plain": [
       "DecisionTreeClassifier(max_depth=7, max_leaf_nodes=100, random_state=50)"
      ]
     },
     "execution_count": 21,
     "metadata": {},
     "output_type": "execute_result"
    }
   ],
   "source": [
    "DT_gini =DecisionTreeClassifier(criterion='gini', splitter='best', max_depth=7, random_state=50, max_leaf_nodes=100, min_impurity_decrease=0.0)\n",
    "DT_gini"
   ]
  },
  {
   "cell_type": "code",
   "execution_count": 22,
   "id": "933bc339-5086-4b36-8db5-7ab6e66ffbb7",
   "metadata": {},
   "outputs": [
    {
     "data": {
      "text/html": [
       "<style>#sk-container-id-2 {color: black;background-color: white;}#sk-container-id-2 pre{padding: 0;}#sk-container-id-2 div.sk-toggleable {background-color: white;}#sk-container-id-2 label.sk-toggleable__label {cursor: pointer;display: block;width: 100%;margin-bottom: 0;padding: 0.3em;box-sizing: border-box;text-align: center;}#sk-container-id-2 label.sk-toggleable__label-arrow:before {content: \"▸\";float: left;margin-right: 0.25em;color: #696969;}#sk-container-id-2 label.sk-toggleable__label-arrow:hover:before {color: black;}#sk-container-id-2 div.sk-estimator:hover label.sk-toggleable__label-arrow:before {color: black;}#sk-container-id-2 div.sk-toggleable__content {max-height: 0;max-width: 0;overflow: hidden;text-align: left;background-color: #f0f8ff;}#sk-container-id-2 div.sk-toggleable__content pre {margin: 0.2em;color: black;border-radius: 0.25em;background-color: #f0f8ff;}#sk-container-id-2 input.sk-toggleable__control:checked~div.sk-toggleable__content {max-height: 200px;max-width: 100%;overflow: auto;}#sk-container-id-2 input.sk-toggleable__control:checked~label.sk-toggleable__label-arrow:before {content: \"▾\";}#sk-container-id-2 div.sk-estimator input.sk-toggleable__control:checked~label.sk-toggleable__label {background-color: #d4ebff;}#sk-container-id-2 div.sk-label input.sk-toggleable__control:checked~label.sk-toggleable__label {background-color: #d4ebff;}#sk-container-id-2 input.sk-hidden--visually {border: 0;clip: rect(1px 1px 1px 1px);clip: rect(1px, 1px, 1px, 1px);height: 1px;margin: -1px;overflow: hidden;padding: 0;position: absolute;width: 1px;}#sk-container-id-2 div.sk-estimator {font-family: monospace;background-color: #f0f8ff;border: 1px dotted black;border-radius: 0.25em;box-sizing: border-box;margin-bottom: 0.5em;}#sk-container-id-2 div.sk-estimator:hover {background-color: #d4ebff;}#sk-container-id-2 div.sk-parallel-item::after {content: \"\";width: 100%;border-bottom: 1px solid gray;flex-grow: 1;}#sk-container-id-2 div.sk-label:hover label.sk-toggleable__label {background-color: #d4ebff;}#sk-container-id-2 div.sk-serial::before {content: \"\";position: absolute;border-left: 1px solid gray;box-sizing: border-box;top: 0;bottom: 0;left: 50%;z-index: 0;}#sk-container-id-2 div.sk-serial {display: flex;flex-direction: column;align-items: center;background-color: white;padding-right: 0.2em;padding-left: 0.2em;position: relative;}#sk-container-id-2 div.sk-item {position: relative;z-index: 1;}#sk-container-id-2 div.sk-parallel {display: flex;align-items: stretch;justify-content: center;background-color: white;position: relative;}#sk-container-id-2 div.sk-item::before, #sk-container-id-2 div.sk-parallel-item::before {content: \"\";position: absolute;border-left: 1px solid gray;box-sizing: border-box;top: 0;bottom: 0;left: 50%;z-index: -1;}#sk-container-id-2 div.sk-parallel-item {display: flex;flex-direction: column;z-index: 1;position: relative;background-color: white;}#sk-container-id-2 div.sk-parallel-item:first-child::after {align-self: flex-end;width: 50%;}#sk-container-id-2 div.sk-parallel-item:last-child::after {align-self: flex-start;width: 50%;}#sk-container-id-2 div.sk-parallel-item:only-child::after {width: 0;}#sk-container-id-2 div.sk-dashed-wrapped {border: 1px dashed gray;margin: 0 0.4em 0.5em 0.4em;box-sizing: border-box;padding-bottom: 0.4em;background-color: white;}#sk-container-id-2 div.sk-label label {font-family: monospace;font-weight: bold;display: inline-block;line-height: 1.2em;}#sk-container-id-2 div.sk-label-container {text-align: center;}#sk-container-id-2 div.sk-container {/* jupyter's `normalize.less` sets `[hidden] { display: none; }` but bootstrap.min.css set `[hidden] { display: none !important; }` so we also need the `!important` here to be able to override the default hidden behavior on the sphinx rendered scikit-learn.org. See: https://github.com/scikit-learn/scikit-learn/issues/21755 */display: inline-block !important;position: relative;}#sk-container-id-2 div.sk-text-repr-fallback {display: none;}</style><div id=\"sk-container-id-2\" class=\"sk-top-container\"><div class=\"sk-text-repr-fallback\"><pre>DecisionTreeClassifier(max_depth=7, max_leaf_nodes=100, random_state=50)</pre><b>In a Jupyter environment, please rerun this cell to show the HTML representation or trust the notebook. <br />On GitHub, the HTML representation is unable to render, please try loading this page with nbviewer.org.</b></div><div class=\"sk-container\" hidden><div class=\"sk-item\"><div class=\"sk-estimator sk-toggleable\"><input class=\"sk-toggleable__control sk-hidden--visually\" id=\"sk-estimator-id-2\" type=\"checkbox\" checked><label for=\"sk-estimator-id-2\" class=\"sk-toggleable__label sk-toggleable__label-arrow\">DecisionTreeClassifier</label><div class=\"sk-toggleable__content\"><pre>DecisionTreeClassifier(max_depth=7, max_leaf_nodes=100, random_state=50)</pre></div></div></div></div></div>"
      ],
      "text/plain": [
       "DecisionTreeClassifier(max_depth=7, max_leaf_nodes=100, random_state=50)"
      ]
     },
     "execution_count": 22,
     "metadata": {},
     "output_type": "execute_result"
    }
   ],
   "source": [
    "# lets fit the data \n",
    "DT_gini.fit(x_train,y_train)"
   ]
  },
  {
   "cell_type": "code",
   "execution_count": 23,
   "id": "06065e3f-20fb-4958-b24c-95308340e658",
   "metadata": {},
   "outputs": [
    {
     "data": {
      "text/plain": [
       "array([0, 0, 0, ..., 0, 0, 0])"
      ]
     },
     "execution_count": 23,
     "metadata": {},
     "output_type": "execute_result"
    }
   ],
   "source": [
    "predict_gini =DT_gini.predict(x_test)\n",
    "predict_gini"
   ]
  },
  {
   "cell_type": "code",
   "execution_count": 24,
   "id": "be0e45f6-282c-45d5-bf54-1f78245d569b",
   "metadata": {},
   "outputs": [
    {
     "name": "stdout",
     "output_type": "stream",
     "text": [
      "              precision    recall  f1-score   support\n",
      "\n",
      "           0       0.85      0.96      0.90      2420\n",
      "           1       0.32      0.10      0.15       454\n",
      "\n",
      "    accuracy                           0.82      2874\n",
      "   macro avg       0.59      0.53      0.53      2874\n",
      "weighted avg       0.77      0.82      0.78      2874\n",
      "\n",
      "0.824634655532359\n"
     ]
    }
   ],
   "source": [
    "print(classification_report(y_test,predict_gini))\n",
    "print(accuracy_score(y_test,predict_gini))"
   ]
  },
  {
   "cell_type": "code",
   "execution_count": 25,
   "id": "4436ac73-965b-44d5-ade8-4dd8c8a6abfe",
   "metadata": {},
   "outputs": [
    {
     "data": {
      "text/plain": [
       "0.824634655532359"
      ]
     },
     "execution_count": 25,
     "metadata": {},
     "output_type": "execute_result"
    }
   ],
   "source": [
    "Acc_gini= accuracy_score(y_test,predict_gini)\n",
    "Acc_gini"
   ]
  },
  {
   "cell_type": "code",
   "execution_count": 26,
   "id": "849aedb6-806f-44f2-ae8d-cedbf0a62506",
   "metadata": {},
   "outputs": [
    {
     "name": "stdout",
     "output_type": "stream",
     "text": [
      "[[2325   95]\n",
      " [ 409   45]]\n"
     ]
    }
   ],
   "source": [
    "print(confusion_matrix(y_test,predict_gini))"
   ]
  },
  {
   "cell_type": "code",
   "execution_count": 27,
   "id": "f1708179-877c-4941-ae41-343e6ed1ec20",
   "metadata": {},
   "outputs": [],
   "source": [
    "# calculate the cross validation:\n",
    "kfold_gini =KFold(n_splits =5,random_state=40,shuffle= True)\n"
   ]
  },
  {
   "cell_type": "code",
   "execution_count": 28,
   "id": "5ef2eefe-cc98-4487-92bd-6739cec2540a",
   "metadata": {},
   "outputs": [
    {
     "name": "stdout",
     "output_type": "stream",
     "text": [
      "82.67920548139345\n"
     ]
    }
   ],
   "source": [
    "cross_gini= cross_val_score(DT_gini,X,y,cv=kfold_gini,scoring='accuracy')\n",
    "print(cross_gini.mean()*100)"
   ]
  },
  {
   "cell_type": "code",
   "execution_count": 29,
   "id": "f6d45faa-a330-4bc4-8b1e-8395ea78dcd8",
   "metadata": {},
   "outputs": [
    {
     "data": {
      "text/plain": [
       "[Text(0.4923199152542373, 0.9375, 'x[0] <= 0.5\\ngini = 0.27\\nsamples = 6704\\nvalue = [5625, 1079]'),\n",
       " Text(0.2934322033898305, 0.8125, 'x[17] <= 0.5\\ngini = 0.403\\nsamples = 1282\\nvalue = [923, 359]'),\n",
       " Text(0.15677966101694915, 0.6875, 'x[9] <= 4.5\\ngini = 0.391\\nsamples = 1188\\nvalue = [871, 317]'),\n",
       " Text(0.048728813559322036, 0.5625, 'x[4] <= 0.045\\ngini = 0.357\\nsamples = 761\\nvalue = [584, 177]'),\n",
       " Text(0.01694915254237288, 0.4375, 'x[5] <= 667.0\\ngini = 0.48\\nsamples = 10\\nvalue = [4, 6]'),\n",
       " Text(0.00847457627118644, 0.3125, 'gini = 0.0\\nsamples = 4\\nvalue = [0, 4]'),\n",
       " Text(0.025423728813559324, 0.3125, 'x[1] <= 0.106\\ngini = 0.444\\nsamples = 6\\nvalue = [4, 2]'),\n",
       " Text(0.01694915254237288, 0.1875, 'x[2] <= 54.45\\ngini = 0.444\\nsamples = 3\\nvalue = [1, 2]'),\n",
       " Text(0.00847457627118644, 0.0625, 'gini = 0.0\\nsamples = 1\\nvalue = [1, 0]'),\n",
       " Text(0.025423728813559324, 0.0625, 'gini = 0.0\\nsamples = 2\\nvalue = [0, 2]'),\n",
       " Text(0.03389830508474576, 0.1875, 'gini = 0.0\\nsamples = 3\\nvalue = [3, 0]'),\n",
       " Text(0.08050847457627118, 0.4375, 'x[8] <= 81.45\\ngini = 0.352\\nsamples = 751\\nvalue = [580, 171]'),\n",
       " Text(0.059322033898305086, 0.3125, 'x[3] <= 13.07\\ngini = 0.325\\nsamples = 573\\nvalue = [456, 117]'),\n",
       " Text(0.05084745762711865, 0.1875, 'x[2] <= 205.125\\ngini = 0.322\\nsamples = 571\\nvalue = [456, 115]'),\n",
       " Text(0.0423728813559322, 0.0625, 'gini = 0.264\\nsamples = 275\\nvalue = [232, 43]'),\n",
       " Text(0.059322033898305086, 0.0625, 'gini = 0.368\\nsamples = 296\\nvalue = [224, 72]'),\n",
       " Text(0.06779661016949153, 0.1875, 'gini = 0.0\\nsamples = 2\\nvalue = [0, 2]'),\n",
       " Text(0.1016949152542373, 0.3125, 'x[6] <= 4514.521\\ngini = 0.423\\nsamples = 178\\nvalue = [124, 54]'),\n",
       " Text(0.0847457627118644, 0.1875, 'x[7] <= 939.0\\ngini = 0.346\\nsamples = 117\\nvalue = [91, 26]'),\n",
       " Text(0.07627118644067797, 0.0625, 'gini = 0.278\\nsamples = 6\\nvalue = [1, 5]'),\n",
       " Text(0.09322033898305085, 0.0625, 'gini = 0.307\\nsamples = 111\\nvalue = [90, 21]'),\n",
       " Text(0.11864406779661017, 0.1875, 'x[6] <= 7710.042\\ngini = 0.497\\nsamples = 61\\nvalue = [33, 28]'),\n",
       " Text(0.11016949152542373, 0.0625, 'gini = 0.493\\nsamples = 43\\nvalue = [19, 24]'),\n",
       " Text(0.1271186440677966, 0.0625, 'gini = 0.346\\nsamples = 18\\nvalue = [14, 4]'),\n",
       " Text(0.2648305084745763, 0.5625, 'x[3] <= 11.154\\ngini = 0.441\\nsamples = 427\\nvalue = [287, 140]'),\n",
       " Text(0.2033898305084746, 0.4375, 'x[2] <= 367.755\\ngini = 0.472\\nsamples = 278\\nvalue = [172, 106]'),\n",
       " Text(0.1694915254237288, 0.3125, 'x[1] <= 0.16\\ngini = 0.454\\nsamples = 235\\nvalue = [153, 82]'),\n",
       " Text(0.15254237288135594, 0.1875, 'x[9] <= 6.5\\ngini = 0.475\\nsamples = 191\\nvalue = [117, 74]'),\n",
       " Text(0.1440677966101695, 0.0625, 'gini = 0.437\\nsamples = 124\\nvalue = [84, 40]'),\n",
       " Text(0.16101694915254236, 0.0625, 'gini = 0.5\\nsamples = 67\\nvalue = [33, 34]'),\n",
       " Text(0.1864406779661017, 0.1875, 'x[8] <= 53.65\\ngini = 0.298\\nsamples = 44\\nvalue = [36, 8]'),\n",
       " Text(0.17796610169491525, 0.0625, 'gini = 0.0\\nsamples = 21\\nvalue = [21, 0]'),\n",
       " Text(0.19491525423728814, 0.0625, 'gini = 0.454\\nsamples = 23\\nvalue = [15, 8]'),\n",
       " Text(0.23728813559322035, 0.3125, 'x[9] <= 5.5\\ngini = 0.493\\nsamples = 43\\nvalue = [19, 24]'),\n",
       " Text(0.22033898305084745, 0.1875, 'x[2] <= 455.825\\ngini = 0.391\\nsamples = 15\\nvalue = [11, 4]'),\n",
       " Text(0.211864406779661, 0.0625, 'gini = 0.32\\nsamples = 5\\nvalue = [1, 4]'),\n",
       " Text(0.2288135593220339, 0.0625, 'gini = 0.0\\nsamples = 10\\nvalue = [10, 0]'),\n",
       " Text(0.2542372881355932, 0.1875, 'x[5] <= 712.0\\ngini = 0.408\\nsamples = 28\\nvalue = [8, 20]'),\n",
       " Text(0.2457627118644068, 0.0625, 'gini = 0.355\\nsamples = 26\\nvalue = [6, 20]'),\n",
       " Text(0.2627118644067797, 0.0625, 'gini = 0.0\\nsamples = 2\\nvalue = [2, 0]'),\n",
       " Text(0.326271186440678, 0.4375, 'x[8] <= 97.0\\ngini = 0.352\\nsamples = 149\\nvalue = [115, 34]'),\n",
       " Text(0.3050847457627119, 0.3125, 'x[7] <= 4635.0\\ngini = 0.33\\nsamples = 144\\nvalue = [114, 30]'),\n",
       " Text(0.288135593220339, 0.1875, 'x[2] <= 864.585\\ngini = 0.061\\nsamples = 32\\nvalue = [31, 1]'),\n",
       " Text(0.2796610169491525, 0.0625, 'gini = 0.0\\nsamples = 30\\nvalue = [30, 0]'),\n",
       " Text(0.2966101694915254, 0.0625, 'gini = 0.5\\nsamples = 2\\nvalue = [1, 1]'),\n",
       " Text(0.3220338983050847, 0.1875, 'x[4] <= 5.32\\ngini = 0.384\\nsamples = 112\\nvalue = [83, 29]'),\n",
       " Text(0.3135593220338983, 0.0625, 'gini = 0.463\\nsamples = 11\\nvalue = [4, 7]'),\n",
       " Text(0.3305084745762712, 0.0625, 'gini = 0.341\\nsamples = 101\\nvalue = [79, 22]'),\n",
       " Text(0.3474576271186441, 0.3125, 'x[1] <= 0.189\\ngini = 0.32\\nsamples = 5\\nvalue = [1, 4]'),\n",
       " Text(0.3389830508474576, 0.1875, 'gini = 0.0\\nsamples = 4\\nvalue = [0, 4]'),\n",
       " Text(0.3559322033898305, 0.1875, 'gini = 0.0\\nsamples = 1\\nvalue = [1, 0]'),\n",
       " Text(0.4300847457627119, 0.6875, 'x[8] <= 26.45\\ngini = 0.494\\nsamples = 94\\nvalue = [52, 42]'),\n",
       " Text(0.3983050847457627, 0.5625, 'x[3] <= 12.351\\ngini = 0.32\\nsamples = 30\\nvalue = [24, 6]'),\n",
       " Text(0.3898305084745763, 0.4375, 'x[2] <= 908.145\\ngini = 0.198\\nsamples = 27\\nvalue = [24, 3]'),\n",
       " Text(0.3813559322033898, 0.3125, 'x[11] <= 0.5\\ngini = 0.077\\nsamples = 25\\nvalue = [24, 1]'),\n",
       " Text(0.3728813559322034, 0.1875, 'gini = 0.0\\nsamples = 24\\nvalue = [24, 0]'),\n",
       " Text(0.3898305084745763, 0.1875, 'gini = 0.0\\nsamples = 1\\nvalue = [0, 1]'),\n",
       " Text(0.3983050847457627, 0.3125, 'gini = 0.0\\nsamples = 2\\nvalue = [0, 2]'),\n",
       " Text(0.4067796610169492, 0.4375, 'gini = 0.0\\nsamples = 3\\nvalue = [0, 3]'),\n",
       " Text(0.461864406779661, 0.5625, 'x[2] <= 842.61\\ngini = 0.492\\nsamples = 64\\nvalue = [28, 36]'),\n",
       " Text(0.4322033898305085, 0.4375, 'x[4] <= 4.99\\ngini = 0.46\\nsamples = 53\\nvalue = [19, 34]'),\n",
       " Text(0.4152542372881356, 0.3125, 'x[11] <= 0.5\\ngini = 0.346\\nsamples = 9\\nvalue = [7, 2]'),\n",
       " Text(0.4067796610169492, 0.1875, 'x[1] <= 0.168\\ngini = 0.219\\nsamples = 8\\nvalue = [7, 1]'),\n",
       " Text(0.3983050847457627, 0.0625, 'gini = 0.0\\nsamples = 7\\nvalue = [7, 0]'),\n",
       " Text(0.4152542372881356, 0.0625, 'gini = 0.0\\nsamples = 1\\nvalue = [0, 1]'),\n",
       " Text(0.423728813559322, 0.1875, 'gini = 0.0\\nsamples = 1\\nvalue = [0, 1]'),\n",
       " Text(0.4491525423728814, 0.3125, 'x[3] <= 12.89\\ngini = 0.397\\nsamples = 44\\nvalue = [12, 32]'),\n",
       " Text(0.4406779661016949, 0.1875, 'x[2] <= 205.355\\ngini = 0.343\\nsamples = 41\\nvalue = [9, 32]'),\n",
       " Text(0.4322033898305085, 0.0625, 'gini = 0.375\\nsamples = 4\\nvalue = [3, 1]'),\n",
       " Text(0.4491525423728814, 0.0625, 'gini = 0.272\\nsamples = 37\\nvalue = [6, 31]'),\n",
       " Text(0.4576271186440678, 0.1875, 'gini = 0.0\\nsamples = 3\\nvalue = [3, 0]'),\n",
       " Text(0.4915254237288136, 0.4375, 'x[2] <= 899.575\\ngini = 0.298\\nsamples = 11\\nvalue = [9, 2]'),\n",
       " Text(0.4830508474576271, 0.3125, 'x[10] <= 0.5\\ngini = 0.18\\nsamples = 10\\nvalue = [9, 1]'),\n",
       " Text(0.4745762711864407, 0.1875, 'gini = 0.0\\nsamples = 9\\nvalue = [9, 0]'),\n",
       " Text(0.4915254237288136, 0.1875, 'gini = 0.0\\nsamples = 1\\nvalue = [0, 1]'),\n",
       " Text(0.5, 0.3125, 'gini = 0.0\\nsamples = 1\\nvalue = [0, 1]'),\n",
       " Text(0.691207627118644, 0.8125, 'x[1] <= 0.093\\ngini = 0.23\\nsamples = 5422\\nvalue = [4702, 720]'),\n",
       " Text(0.5635593220338984, 0.6875, 'x[8] <= 52.85\\ngini = 0.098\\nsamples = 1123\\nvalue = [1065, 58]'),\n",
       " Text(0.5338983050847458, 0.5625, 'x[7] <= 125958.5\\ngini = 0.08\\nsamples = 1025\\nvalue = [982, 43]'),\n",
       " Text(0.5254237288135594, 0.4375, 'x[3] <= 8.843\\ngini = 0.079\\nsamples = 1024\\nvalue = [982, 42]'),\n",
       " Text(0.5169491525423728, 0.3125, 'gini = 0.0\\nsamples = 1\\nvalue = [0, 1]'),\n",
       " Text(0.5338983050847458, 0.3125, 'x[9] <= 3.5\\ngini = 0.077\\nsamples = 1023\\nvalue = [982, 41]'),\n",
       " Text(0.5169491525423728, 0.1875, 'x[7] <= 16792.5\\ngini = 0.07\\nsamples = 997\\nvalue = [961, 36]'),\n",
       " Text(0.5084745762711864, 0.0625, 'gini = 0.052\\nsamples = 861\\nvalue = [838, 23]'),\n",
       " Text(0.5254237288135594, 0.0625, 'gini = 0.173\\nsamples = 136\\nvalue = [123, 13]'),\n",
       " Text(0.5508474576271186, 0.1875, 'x[3] <= 10.187\\ngini = 0.311\\nsamples = 26\\nvalue = [21, 5]'),\n",
       " Text(0.5423728813559322, 0.0625, 'gini = 0.0\\nsamples = 2\\nvalue = [0, 2]'),\n",
       " Text(0.559322033898305, 0.0625, 'gini = 0.219\\nsamples = 24\\nvalue = [21, 3]'),\n",
       " Text(0.5423728813559322, 0.4375, 'gini = 0.0\\nsamples = 1\\nvalue = [0, 1]'),\n",
       " Text(0.5932203389830508, 0.5625, 'x[8] <= 53.25\\ngini = 0.259\\nsamples = 98\\nvalue = [83, 15]'),\n",
       " Text(0.576271186440678, 0.4375, 'x[5] <= 724.5\\ngini = 0.375\\nsamples = 4\\nvalue = [1, 3]'),\n",
       " Text(0.5677966101694916, 0.3125, 'gini = 0.0\\nsamples = 1\\nvalue = [1, 0]'),\n",
       " Text(0.5847457627118644, 0.3125, 'gini = 0.0\\nsamples = 3\\nvalue = [0, 3]'),\n",
       " Text(0.6101694915254238, 0.4375, 'x[2] <= 510.765\\ngini = 0.223\\nsamples = 94\\nvalue = [82, 12]'),\n",
       " Text(0.6016949152542372, 0.3125, 'x[7] <= 37902.5\\ngini = 0.194\\nsamples = 92\\nvalue = [82, 10]'),\n",
       " Text(0.5847457627118644, 0.1875, 'x[3] <= 9.286\\ngini = 0.136\\nsamples = 82\\nvalue = [76, 6]'),\n",
       " Text(0.576271186440678, 0.0625, 'gini = 0.0\\nsamples = 1\\nvalue = [0, 1]'),\n",
       " Text(0.5932203389830508, 0.0625, 'gini = 0.116\\nsamples = 81\\nvalue = [76, 5]'),\n",
       " Text(0.6186440677966102, 0.1875, 'x[4] <= 16.485\\ngini = 0.48\\nsamples = 10\\nvalue = [6, 4]'),\n",
       " Text(0.6101694915254238, 0.0625, 'gini = 0.444\\nsamples = 6\\nvalue = [2, 4]'),\n",
       " Text(0.6271186440677966, 0.0625, 'gini = 0.0\\nsamples = 4\\nvalue = [4, 0]'),\n",
       " Text(0.6186440677966102, 0.3125, 'gini = 0.0\\nsamples = 2\\nvalue = [0, 2]'),\n",
       " Text(0.8188559322033898, 0.6875, 'x[17] <= 0.5\\ngini = 0.261\\nsamples = 4299\\nvalue = [3637, 662]'),\n",
       " Text(0.7245762711864406, 0.5625, 'x[1] <= 0.174\\ngini = 0.247\\nsamples = 3977\\nvalue = [3402, 575]'),\n",
       " Text(0.6822033898305084, 0.4375, 'x[3] <= 10.542\\ngini = 0.243\\nsamples = 3926\\nvalue = [3371, 555]'),\n",
       " Text(0.6610169491525424, 0.3125, 'x[7] <= 27613.0\\ngini = 0.314\\nsamples = 892\\nvalue = [718, 174]'),\n",
       " Text(0.652542372881356, 0.1875, 'x[1] <= 0.169\\ngini = 0.312\\nsamples = 890\\nvalue = [718, 172]'),\n",
       " Text(0.6440677966101694, 0.0625, 'gini = 0.308\\nsamples = 883\\nvalue = [715, 168]'),\n",
       " Text(0.6610169491525424, 0.0625, 'gini = 0.49\\nsamples = 7\\nvalue = [3, 4]'),\n",
       " Text(0.6694915254237288, 0.1875, 'gini = 0.0\\nsamples = 2\\nvalue = [0, 2]'),\n",
       " Text(0.7033898305084746, 0.3125, 'x[11] <= 0.5\\ngini = 0.22\\nsamples = 3034\\nvalue = [2653, 381]'),\n",
       " Text(0.6864406779661016, 0.1875, 'x[2] <= 827.575\\ngini = 0.21\\nsamples = 2818\\nvalue = [2482, 336]'),\n",
       " Text(0.6779661016949152, 0.0625, 'gini = 0.203\\nsamples = 2716\\nvalue = [2404, 312]'),\n",
       " Text(0.6949152542372882, 0.0625, 'gini = 0.36\\nsamples = 102\\nvalue = [78, 24]'),\n",
       " Text(0.7203389830508474, 0.1875, 'x[9] <= 2.5\\ngini = 0.33\\nsamples = 216\\nvalue = [171, 45]'),\n",
       " Text(0.711864406779661, 0.0625, 'gini = 0.285\\nsamples = 186\\nvalue = [154, 32]'),\n",
       " Text(0.7288135593220338, 0.0625, 'gini = 0.491\\nsamples = 30\\nvalue = [17, 13]'),\n",
       " Text(0.7669491525423728, 0.4375, 'x[2] <= 290.515\\ngini = 0.477\\nsamples = 51\\nvalue = [31, 20]'),\n",
       " Text(0.7457627118644068, 0.3125, 'x[2] <= 101.16\\ngini = 0.165\\nsamples = 11\\nvalue = [10, 1]'),\n",
       " Text(0.7372881355932204, 0.1875, 'gini = 0.0\\nsamples = 1\\nvalue = [0, 1]'),\n",
       " Text(0.7542372881355932, 0.1875, 'gini = 0.0\\nsamples = 10\\nvalue = [10, 0]'),\n",
       " Text(0.788135593220339, 0.3125, 'x[4] <= 7.94\\ngini = 0.499\\nsamples = 40\\nvalue = [21, 19]'),\n",
       " Text(0.7711864406779662, 0.1875, 'x[1] <= 0.193\\ngini = 0.346\\nsamples = 9\\nvalue = [2, 7]'),\n",
       " Text(0.7627118644067796, 0.0625, 'gini = 0.0\\nsamples = 7\\nvalue = [0, 7]'),\n",
       " Text(0.7796610169491526, 0.0625, 'gini = 0.0\\nsamples = 2\\nvalue = [2, 0]'),\n",
       " Text(0.8050847457627118, 0.1875, 'x[8] <= 45.15\\ngini = 0.475\\nsamples = 31\\nvalue = [19, 12]'),\n",
       " Text(0.7966101694915254, 0.0625, 'gini = 0.0\\nsamples = 7\\nvalue = [7, 0]'),\n",
       " Text(0.8135593220338984, 0.0625, 'gini = 0.5\\nsamples = 24\\nvalue = [12, 12]'),\n",
       " Text(0.913135593220339, 0.5625, 'x[8] <= 42.25\\ngini = 0.394\\nsamples = 322\\nvalue = [235, 87]'),\n",
       " Text(0.8601694915254238, 0.4375, 'x[2] <= 204.78\\ngini = 0.302\\nsamples = 178\\nvalue = [145, 33]'),\n",
       " Text(0.8305084745762712, 0.3125, 'x[3] <= 11.44\\ngini = 0.054\\nsamples = 36\\nvalue = [35, 1]'),\n",
       " Text(0.8220338983050848, 0.1875, 'gini = 0.0\\nsamples = 32\\nvalue = [32, 0]'),\n",
       " Text(0.8389830508474576, 0.1875, 'x[8] <= 4.75\\ngini = 0.375\\nsamples = 4\\nvalue = [3, 1]'),\n",
       " Text(0.8305084745762712, 0.0625, 'gini = 0.0\\nsamples = 1\\nvalue = [0, 1]'),\n",
       " Text(0.847457627118644, 0.0625, 'gini = 0.0\\nsamples = 3\\nvalue = [3, 0]'),\n",
       " Text(0.8898305084745762, 0.3125, 'x[6] <= 4649.979\\ngini = 0.349\\nsamples = 142\\nvalue = [110, 32]'),\n",
       " Text(0.8728813559322034, 0.1875, 'x[4] <= 4.805\\ngini = 0.428\\nsamples = 74\\nvalue = [51, 23]'),\n",
       " Text(0.864406779661017, 0.0625, 'gini = 0.165\\nsamples = 22\\nvalue = [20, 2]'),\n",
       " Text(0.8813559322033898, 0.0625, 'gini = 0.482\\nsamples = 52\\nvalue = [31, 21]'),\n",
       " Text(0.9067796610169492, 0.1875, 'x[2] <= 230.925\\ngini = 0.23\\nsamples = 68\\nvalue = [59, 9]'),\n",
       " Text(0.8983050847457628, 0.0625, 'gini = 0.0\\nsamples = 2\\nvalue = [0, 2]'),\n",
       " Text(0.9152542372881356, 0.0625, 'gini = 0.19\\nsamples = 66\\nvalue = [59, 7]'),\n",
       " Text(0.9661016949152542, 0.4375, 'x[10] <= 0.5\\ngini = 0.469\\nsamples = 144\\nvalue = [90, 54]'),\n",
       " Text(0.9491525423728814, 0.3125, 'x[3] <= 12.043\\ngini = 0.446\\nsamples = 128\\nvalue = [85, 43]'),\n",
       " Text(0.940677966101695, 0.1875, 'x[2] <= 332.765\\ngini = 0.431\\nsamples = 124\\nvalue = [85, 39]'),\n",
       " Text(0.9322033898305084, 0.0625, 'gini = 0.302\\nsamples = 54\\nvalue = [44, 10]'),\n",
       " Text(0.9491525423728814, 0.0625, 'gini = 0.485\\nsamples = 70\\nvalue = [41, 29]'),\n",
       " Text(0.9576271186440678, 0.1875, 'gini = 0.0\\nsamples = 4\\nvalue = [0, 4]'),\n",
       " Text(0.9830508474576272, 0.3125, 'x[6] <= 7905.458\\ngini = 0.43\\nsamples = 16\\nvalue = [5, 11]'),\n",
       " Text(0.9745762711864406, 0.1875, 'x[8] <= 94.7\\ngini = 0.26\\nsamples = 13\\nvalue = [2, 11]'),\n",
       " Text(0.9661016949152542, 0.0625, 'gini = 0.153\\nsamples = 12\\nvalue = [1, 11]'),\n",
       " Text(0.9830508474576272, 0.0625, 'gini = 0.0\\nsamples = 1\\nvalue = [1, 0]'),\n",
       " Text(0.9915254237288136, 0.1875, 'gini = 0.0\\nsamples = 3\\nvalue = [3, 0]')]"
      ]
     },
     "execution_count": 29,
     "metadata": {},
     "output_type": "execute_result"
    },
    {
     "data": {
      "image/png": "[encoded data removed]",
      "text/plain": [
       "<Figure size 864x576 with 1 Axes>"
      ]
     },
     "metadata": {
      "needs_background": "light"
     },
     "output_type": "display_data"
    }
   ],
   "source": [
    "#Visualize decision-trees\n",
    "plt.figure(figsize=(12,8))\n",
    "\n",
    "from sklearn import tree\n",
    "\n",
    "tree.plot_tree(DT_gini.fit(x_train, y_train)) "
   ]
  },
  {
   "cell_type": "markdown",
   "id": "4809e35a-c53f-402a-8844-de31dd9dc320",
   "metadata": {},
   "source": [
    " # Lets try the criterion{“ “entropy”} to understand any accuracy changecriterion"
   ]
  },
  {
   "cell_type": "code",
   "execution_count": 43,
   "id": "85234f1e-4993-4043-9d72-f2d81149578a",
   "metadata": {},
   "outputs": [
    {
     "data": {
      "text/html": [
       "<style>#sk-container-id-3 {color: black;background-color: white;}#sk-container-id-3 pre{padding: 0;}#sk-container-id-3 div.sk-toggleable {background-color: white;}#sk-container-id-3 label.sk-toggleable__label {cursor: pointer;display: block;width: 100%;margin-bottom: 0;padding: 0.3em;box-sizing: border-box;text-align: center;}#sk-container-id-3 label.sk-toggleable__label-arrow:before {content: \"▸\";float: left;margin-right: 0.25em;color: #696969;}#sk-container-id-3 label.sk-toggleable__label-arrow:hover:before {color: black;}#sk-container-id-3 div.sk-estimator:hover label.sk-toggleable__label-arrow:before {color: black;}#sk-container-id-3 div.sk-toggleable__content {max-height: 0;max-width: 0;overflow: hidden;text-align: left;background-color: #f0f8ff;}#sk-container-id-3 div.sk-toggleable__content pre {margin: 0.2em;color: black;border-radius: 0.25em;background-color: #f0f8ff;}#sk-container-id-3 input.sk-toggleable__control:checked~div.sk-toggleable__content {max-height: 200px;max-width: 100%;overflow: auto;}#sk-container-id-3 input.sk-toggleable__control:checked~label.sk-toggleable__label-arrow:before {content: \"▾\";}#sk-container-id-3 div.sk-estimator input.sk-toggleable__control:checked~label.sk-toggleable__label {background-color: #d4ebff;}#sk-container-id-3 div.sk-label input.sk-toggleable__control:checked~label.sk-toggleable__label {background-color: #d4ebff;}#sk-container-id-3 input.sk-hidden--visually {border: 0;clip: rect(1px 1px 1px 1px);clip: rect(1px, 1px, 1px, 1px);height: 1px;margin: -1px;overflow: hidden;padding: 0;position: absolute;width: 1px;}#sk-container-id-3 div.sk-estimator {font-family: monospace;background-color: #f0f8ff;border: 1px dotted black;border-radius: 0.25em;box-sizing: border-box;margin-bottom: 0.5em;}#sk-container-id-3 div.sk-estimator:hover {background-color: #d4ebff;}#sk-container-id-3 div.sk-parallel-item::after {content: \"\";width: 100%;border-bottom: 1px solid gray;flex-grow: 1;}#sk-container-id-3 div.sk-label:hover label.sk-toggleable__label {background-color: #d4ebff;}#sk-container-id-3 div.sk-serial::before {content: \"\";position: absolute;border-left: 1px solid gray;box-sizing: border-box;top: 0;bottom: 0;left: 50%;z-index: 0;}#sk-container-id-3 div.sk-serial {display: flex;flex-direction: column;align-items: center;background-color: white;padding-right: 0.2em;padding-left: 0.2em;position: relative;}#sk-container-id-3 div.sk-item {position: relative;z-index: 1;}#sk-container-id-3 div.sk-parallel {display: flex;align-items: stretch;justify-content: center;background-color: white;position: relative;}#sk-container-id-3 div.sk-item::before, #sk-container-id-3 div.sk-parallel-item::before {content: \"\";position: absolute;border-left: 1px solid gray;box-sizing: border-box;top: 0;bottom: 0;left: 50%;z-index: -1;}#sk-container-id-3 div.sk-parallel-item {display: flex;flex-direction: column;z-index: 1;position: relative;background-color: white;}#sk-container-id-3 div.sk-parallel-item:first-child::after {align-self: flex-end;width: 50%;}#sk-container-id-3 div.sk-parallel-item:last-child::after {align-self: flex-start;width: 50%;}#sk-container-id-3 div.sk-parallel-item:only-child::after {width: 0;}#sk-container-id-3 div.sk-dashed-wrapped {border: 1px dashed gray;margin: 0 0.4em 0.5em 0.4em;box-sizing: border-box;padding-bottom: 0.4em;background-color: white;}#sk-container-id-3 div.sk-label label {font-family: monospace;font-weight: bold;display: inline-block;line-height: 1.2em;}#sk-container-id-3 div.sk-label-container {text-align: center;}#sk-container-id-3 div.sk-container {/* jupyter's `normalize.less` sets `[hidden] { display: none; }` but bootstrap.min.css set `[hidden] { display: none !important; }` so we also need the `!important` here to be able to override the default hidden behavior on the sphinx rendered scikit-learn.org. See: https://github.com/scikit-learn/scikit-learn/issues/21755 */display: inline-block !important;position: relative;}#sk-container-id-3 div.sk-text-repr-fallback {display: none;}</style><div id=\"sk-container-id-3\" class=\"sk-top-container\"><div class=\"sk-text-repr-fallback\"><pre>DecisionTreeClassifier(criterion=&#x27;entropy&#x27;, max_depth=7, max_leaf_nodes=100,\n",
       "                       random_state=50)</pre><b>In a Jupyter environment, please rerun this cell to show the HTML representation or trust the notebook. <br />On GitHub, the HTML representation is unable to render, please try loading this page with nbviewer.org.</b></div><div class=\"sk-container\" hidden><div class=\"sk-item\"><div class=\"sk-estimator sk-toggleable\"><input class=\"sk-toggleable__control sk-hidden--visually\" id=\"sk-estimator-id-3\" type=\"checkbox\" checked><label for=\"sk-estimator-id-3\" class=\"sk-toggleable__label sk-toggleable__label-arrow\">DecisionTreeClassifier</label><div class=\"sk-toggleable__content\"><pre>DecisionTreeClassifier(criterion=&#x27;entropy&#x27;, max_depth=7, max_leaf_nodes=100,\n",
       "                       random_state=50)</pre></div></div></div></div></div>"
      ],
      "text/plain": [
       "DecisionTreeClassifier(criterion='entropy', max_depth=7, max_leaf_nodes=100,\n",
       "                       random_state=50)"
      ]
     },
     "execution_count": 43,
     "metadata": {},
     "output_type": "execute_result"
    }
   ],
   "source": [
    "DT_entropy =DecisionTreeClassifier(criterion='entropy', splitter='best', max_depth=7, random_state=50, max_leaf_nodes=100, min_impurity_decrease=0.0)\n",
    "DT_entropy"
   ]
  },
  {
   "cell_type": "code",
   "execution_count": 46,
   "id": "c0d2439b-26c9-4e35-859e-78095223a1d5",
   "metadata": {},
   "outputs": [
    {
     "data": {
      "text/html": [
       "<style>#sk-container-id-6 {color: black;background-color: white;}#sk-container-id-6 pre{padding: 0;}#sk-container-id-6 div.sk-toggleable {background-color: white;}#sk-container-id-6 label.sk-toggleable__label {cursor: pointer;display: block;width: 100%;margin-bottom: 0;padding: 0.3em;box-sizing: border-box;text-align: center;}#sk-container-id-6 label.sk-toggleable__label-arrow:before {content: \"▸\";float: left;margin-right: 0.25em;color: #696969;}#sk-container-id-6 label.sk-toggleable__label-arrow:hover:before {color: black;}#sk-container-id-6 div.sk-estimator:hover label.sk-toggleable__label-arrow:before {color: black;}#sk-container-id-6 div.sk-toggleable__content {max-height: 0;max-width: 0;overflow: hidden;text-align: left;background-color: #f0f8ff;}#sk-container-id-6 div.sk-toggleable__content pre {margin: 0.2em;color: black;border-radius: 0.25em;background-color: #f0f8ff;}#sk-container-id-6 input.sk-toggleable__control:checked~div.sk-toggleable__content {max-height: 200px;max-width: 100%;overflow: auto;}#sk-container-id-6 input.sk-toggleable__control:checked~label.sk-toggleable__label-arrow:before {content: \"▾\";}#sk-container-id-6 div.sk-estimator input.sk-toggleable__control:checked~label.sk-toggleable__label {background-color: #d4ebff;}#sk-container-id-6 div.sk-label input.sk-toggleable__control:checked~label.sk-toggleable__label {background-color: #d4ebff;}#sk-container-id-6 input.sk-hidden--visually {border: 0;clip: rect(1px 1px 1px 1px);clip: rect(1px, 1px, 1px, 1px);height: 1px;margin: -1px;overflow: hidden;padding: 0;position: absolute;width: 1px;}#sk-container-id-6 div.sk-estimator {font-family: monospace;background-color: #f0f8ff;border: 1px dotted black;border-radius: 0.25em;box-sizing: border-box;margin-bottom: 0.5em;}#sk-container-id-6 div.sk-estimator:hover {background-color: #d4ebff;}#sk-container-id-6 div.sk-parallel-item::after {content: \"\";width: 100%;border-bottom: 1px solid gray;flex-grow: 1;}#sk-container-id-6 div.sk-label:hover label.sk-toggleable__label {background-color: #d4ebff;}#sk-container-id-6 div.sk-serial::before {content: \"\";position: absolute;border-left: 1px solid gray;box-sizing: border-box;top: 0;bottom: 0;left: 50%;z-index: 0;}#sk-container-id-6 div.sk-serial {display: flex;flex-direction: column;align-items: center;background-color: white;padding-right: 0.2em;padding-left: 0.2em;position: relative;}#sk-container-id-6 div.sk-item {position: relative;z-index: 1;}#sk-container-id-6 div.sk-parallel {display: flex;align-items: stretch;justify-content: center;background-color: white;position: relative;}#sk-container-id-6 div.sk-item::before, #sk-container-id-6 div.sk-parallel-item::before {content: \"\";position: absolute;border-left: 1px solid gray;box-sizing: border-box;top: 0;bottom: 0;left: 50%;z-index: -1;}#sk-container-id-6 div.sk-parallel-item {display: flex;flex-direction: column;z-index: 1;position: relative;background-color: white;}#sk-container-id-6 div.sk-parallel-item:first-child::after {align-self: flex-end;width: 50%;}#sk-container-id-6 div.sk-parallel-item:last-child::after {align-self: flex-start;width: 50%;}#sk-container-id-6 div.sk-parallel-item:only-child::after {width: 0;}#sk-container-id-6 div.sk-dashed-wrapped {border: 1px dashed gray;margin: 0 0.4em 0.5em 0.4em;box-sizing: border-box;padding-bottom: 0.4em;background-color: white;}#sk-container-id-6 div.sk-label label {font-family: monospace;font-weight: bold;display: inline-block;line-height: 1.2em;}#sk-container-id-6 div.sk-label-container {text-align: center;}#sk-container-id-6 div.sk-container {/* jupyter's `normalize.less` sets `[hidden] { display: none; }` but bootstrap.min.css set `[hidden] { display: none !important; }` so we also need the `!important` here to be able to override the default hidden behavior on the sphinx rendered scikit-learn.org. See: https://github.com/scikit-learn/scikit-learn/issues/21755 */display: inline-block !important;position: relative;}#sk-container-id-6 div.sk-text-repr-fallback {display: none;}</style><div id=\"sk-container-id-6\" class=\"sk-top-container\"><div class=\"sk-text-repr-fallback\"><pre>DecisionTreeClassifier(criterion=&#x27;entropy&#x27;, max_depth=7, max_leaf_nodes=100,\n",
       "                       random_state=50)</pre><b>In a Jupyter environment, please rerun this cell to show the HTML representation or trust the notebook. <br />On GitHub, the HTML representation is unable to render, please try loading this page with nbviewer.org.</b></div><div class=\"sk-container\" hidden><div class=\"sk-item\"><div class=\"sk-estimator sk-toggleable\"><input class=\"sk-toggleable__control sk-hidden--visually\" id=\"sk-estimator-id-6\" type=\"checkbox\" checked><label for=\"sk-estimator-id-6\" class=\"sk-toggleable__label sk-toggleable__label-arrow\">DecisionTreeClassifier</label><div class=\"sk-toggleable__content\"><pre>DecisionTreeClassifier(criterion=&#x27;entropy&#x27;, max_depth=7, max_leaf_nodes=100,\n",
       "                       random_state=50)</pre></div></div></div></div></div>"
      ],
      "text/plain": [
       "DecisionTreeClassifier(criterion='entropy', max_depth=7, max_leaf_nodes=100,\n",
       "                       random_state=50)"
      ]
     },
     "execution_count": 46,
     "metadata": {},
     "output_type": "execute_result"
    }
   ],
   "source": [
    "# lets fit the data \n",
    "DT_entropy.fit(x_train,y_train)"
   ]
  },
  {
   "cell_type": "code",
   "execution_count": 49,
   "id": "6f92b353-bca4-47cc-ae4f-64215cc8a892",
   "metadata": {},
   "outputs": [
    {
     "data": {
      "text/plain": [
       "array([0, 0, 0, ..., 0, 0, 0])"
      ]
     },
     "execution_count": 49,
     "metadata": {},
     "output_type": "execute_result"
    }
   ],
   "source": [
    "predict_entropy =DT_entropy.predict(x_test)\n",
    "predict_entropy"
   ]
  },
  {
   "cell_type": "code",
   "execution_count": 58,
   "id": "c66f3a4f-9dd4-46c4-a8a4-9a5acd5260b0",
   "metadata": {},
   "outputs": [
    {
     "name": "stdout",
     "output_type": "stream",
     "text": [
      "              precision    recall  f1-score   support\n",
      "\n",
      "           0       0.84      0.98      0.91      2420\n",
      "           1       0.23      0.03      0.05       454\n",
      "\n",
      "    accuracy                           0.83      2874\n",
      "   macro avg       0.54      0.51      0.48      2874\n",
      "weighted avg       0.75      0.83      0.77      2874\n",
      "\n"
     ]
    }
   ],
   "source": [
    "print(classification_report(y_test,predict_entropy))"
   ]
  },
  {
   "cell_type": "code",
   "execution_count": 62,
   "id": "125d596b-20ef-472b-927e-e47fc9e1cfd7",
   "metadata": {},
   "outputs": [
    {
     "name": "stdout",
     "output_type": "stream",
     "text": [
      "0.8312456506610996\n"
     ]
    }
   ],
   "source": [
    "print(accuracy_score(y_test,predict_entropy))"
   ]
  },
  {
   "cell_type": "code",
   "execution_count": 67,
   "id": "fb969285-7f10-4108-bf9b-465984dbe881",
   "metadata": {},
   "outputs": [
    {
     "data": {
      "text/plain": [
       "0.8312456506610996"
      ]
     },
     "execution_count": 67,
     "metadata": {},
     "output_type": "execute_result"
    }
   ],
   "source": [
    "Acc_entropy= accuracy_score(y_test,predict_entropy)\n",
    "Acc_entropy"
   ]
  },
  {
   "cell_type": "code",
   "execution_count": 80,
   "id": "638f2937-b888-497f-b441-9f356279848b",
   "metadata": {},
   "outputs": [
    {
     "name": "stdout",
     "output_type": "stream",
     "text": [
      "[[2376   44]\n",
      " [ 441   13]]\n"
     ]
    }
   ],
   "source": [
    "print(confusion_matrix(y_test,predict_entropy))"
   ]
  },
  {
   "cell_type": "code",
   "execution_count": 92,
   "id": "feb9179e-87f9-44b6-8b4b-01fcbf57cdec",
   "metadata": {},
   "outputs": [],
   "source": [
    "# calculate the cross validation:\n",
    "kfold_entropy =KFold(n_splits =5,random_state=40,shuffle= True)\n"
   ]
  },
  {
   "cell_type": "code",
   "execution_count": 93,
   "id": "9c0e856b-893d-4dbd-b9c6-7525d868d13b",
   "metadata": {},
   "outputs": [
    {
     "name": "stdout",
     "output_type": "stream",
     "text": [
      "83.34734569953723\n"
     ]
    }
   ],
   "source": [
    "cross_entropy= cross_val_score(DT_entropy,X,y,cv=kfold_entropy,scoring='accuracy')\n",
    "print(cross_entropy.mean()*100)"
   ]
  },
  {
   "cell_type": "code",
   "execution_count": null,
   "id": "90803df6-1c6e-4432-b28c-1e9479f205e6",
   "metadata": {},
   "outputs": [],
   "source": []
  },
  {
   "cell_type": "markdown",
   "id": "b564757c-4423-4ac8-82b7-da84788dd728",
   "metadata": {},
   "source": [
    " # Lets try the criterion{“ “log_loss”} to understand any accuracy changecriterion"
   ]
  },
  {
   "cell_type": "code",
   "execution_count": 44,
   "id": "9323b2e5-29eb-42d9-9dc5-36af0243106f",
   "metadata": {},
   "outputs": [
    {
     "data": {
      "text/html": [
       "<style>#sk-container-id-4 {color: black;background-color: white;}#sk-container-id-4 pre{padding: 0;}#sk-container-id-4 div.sk-toggleable {background-color: white;}#sk-container-id-4 label.sk-toggleable__label {cursor: pointer;display: block;width: 100%;margin-bottom: 0;padding: 0.3em;box-sizing: border-box;text-align: center;}#sk-container-id-4 label.sk-toggleable__label-arrow:before {content: \"▸\";float: left;margin-right: 0.25em;color: #696969;}#sk-container-id-4 label.sk-toggleable__label-arrow:hover:before {color: black;}#sk-container-id-4 div.sk-estimator:hover label.sk-toggleable__label-arrow:before {color: black;}#sk-container-id-4 div.sk-toggleable__content {max-height: 0;max-width: 0;overflow: hidden;text-align: left;background-color: #f0f8ff;}#sk-container-id-4 div.sk-toggleable__content pre {margin: 0.2em;color: black;border-radius: 0.25em;background-color: #f0f8ff;}#sk-container-id-4 input.sk-toggleable__control:checked~div.sk-toggleable__content {max-height: 200px;max-width: 100%;overflow: auto;}#sk-container-id-4 input.sk-toggleable__control:checked~label.sk-toggleable__label-arrow:before {content: \"▾\";}#sk-container-id-4 div.sk-estimator input.sk-toggleable__control:checked~label.sk-toggleable__label {background-color: #d4ebff;}#sk-container-id-4 div.sk-label input.sk-toggleable__control:checked~label.sk-toggleable__label {background-color: #d4ebff;}#sk-container-id-4 input.sk-hidden--visually {border: 0;clip: rect(1px 1px 1px 1px);clip: rect(1px, 1px, 1px, 1px);height: 1px;margin: -1px;overflow: hidden;padding: 0;position: absolute;width: 1px;}#sk-container-id-4 div.sk-estimator {font-family: monospace;background-color: #f0f8ff;border: 1px dotted black;border-radius: 0.25em;box-sizing: border-box;margin-bottom: 0.5em;}#sk-container-id-4 div.sk-estimator:hover {background-color: #d4ebff;}#sk-container-id-4 div.sk-parallel-item::after {content: \"\";width: 100%;border-bottom: 1px solid gray;flex-grow: 1;}#sk-container-id-4 div.sk-label:hover label.sk-toggleable__label {background-color: #d4ebff;}#sk-container-id-4 div.sk-serial::before {content: \"\";position: absolute;border-left: 1px solid gray;box-sizing: border-box;top: 0;bottom: 0;left: 50%;z-index: 0;}#sk-container-id-4 div.sk-serial {display: flex;flex-direction: column;align-items: center;background-color: white;padding-right: 0.2em;padding-left: 0.2em;position: relative;}#sk-container-id-4 div.sk-item {position: relative;z-index: 1;}#sk-container-id-4 div.sk-parallel {display: flex;align-items: stretch;justify-content: center;background-color: white;position: relative;}#sk-container-id-4 div.sk-item::before, #sk-container-id-4 div.sk-parallel-item::before {content: \"\";position: absolute;border-left: 1px solid gray;box-sizing: border-box;top: 0;bottom: 0;left: 50%;z-index: -1;}#sk-container-id-4 div.sk-parallel-item {display: flex;flex-direction: column;z-index: 1;position: relative;background-color: white;}#sk-container-id-4 div.sk-parallel-item:first-child::after {align-self: flex-end;width: 50%;}#sk-container-id-4 div.sk-parallel-item:last-child::after {align-self: flex-start;width: 50%;}#sk-container-id-4 div.sk-parallel-item:only-child::after {width: 0;}#sk-container-id-4 div.sk-dashed-wrapped {border: 1px dashed gray;margin: 0 0.4em 0.5em 0.4em;box-sizing: border-box;padding-bottom: 0.4em;background-color: white;}#sk-container-id-4 div.sk-label label {font-family: monospace;font-weight: bold;display: inline-block;line-height: 1.2em;}#sk-container-id-4 div.sk-label-container {text-align: center;}#sk-container-id-4 div.sk-container {/* jupyter's `normalize.less` sets `[hidden] { display: none; }` but bootstrap.min.css set `[hidden] { display: none !important; }` so we also need the `!important` here to be able to override the default hidden behavior on the sphinx rendered scikit-learn.org. See: https://github.com/scikit-learn/scikit-learn/issues/21755 */display: inline-block !important;position: relative;}#sk-container-id-4 div.sk-text-repr-fallback {display: none;}</style><div id=\"sk-container-id-4\" class=\"sk-top-container\"><div class=\"sk-text-repr-fallback\"><pre>DecisionTreeClassifier(criterion=&#x27;log_loss&#x27;, max_depth=7, max_leaf_nodes=100,\n",
       "                       random_state=50)</pre><b>In a Jupyter environment, please rerun this cell to show the HTML representation or trust the notebook. <br />On GitHub, the HTML representation is unable to render, please try loading this page with nbviewer.org.</b></div><div class=\"sk-container\" hidden><div class=\"sk-item\"><div class=\"sk-estimator sk-toggleable\"><input class=\"sk-toggleable__control sk-hidden--visually\" id=\"sk-estimator-id-4\" type=\"checkbox\" checked><label for=\"sk-estimator-id-4\" class=\"sk-toggleable__label sk-toggleable__label-arrow\">DecisionTreeClassifier</label><div class=\"sk-toggleable__content\"><pre>DecisionTreeClassifier(criterion=&#x27;log_loss&#x27;, max_depth=7, max_leaf_nodes=100,\n",
       "                       random_state=50)</pre></div></div></div></div></div>"
      ],
      "text/plain": [
       "DecisionTreeClassifier(criterion='log_loss', max_depth=7, max_leaf_nodes=100,\n",
       "                       random_state=50)"
      ]
     },
     "execution_count": 44,
     "metadata": {},
     "output_type": "execute_result"
    }
   ],
   "source": [
    "DT_log_loss =DecisionTreeClassifier(criterion='log_loss', splitter='best', max_depth=7, random_state=50, max_leaf_nodes=100, min_impurity_decrease=0.0)\n",
    "DT_log_loss"
   ]
  },
  {
   "cell_type": "code",
   "execution_count": 47,
   "id": "46b4c045-54bf-4792-aa67-cbf81b0eaa04",
   "metadata": {},
   "outputs": [
    {
     "data": {
      "text/html": [
       "<style>#sk-container-id-7 {color: black;background-color: white;}#sk-container-id-7 pre{padding: 0;}#sk-container-id-7 div.sk-toggleable {background-color: white;}#sk-container-id-7 label.sk-toggleable__label {cursor: pointer;display: block;width: 100%;margin-bottom: 0;padding: 0.3em;box-sizing: border-box;text-align: center;}#sk-container-id-7 label.sk-toggleable__label-arrow:before {content: \"▸\";float: left;margin-right: 0.25em;color: #696969;}#sk-container-id-7 label.sk-toggleable__label-arrow:hover:before {color: black;}#sk-container-id-7 div.sk-estimator:hover label.sk-toggleable__label-arrow:before {color: black;}#sk-container-id-7 div.sk-toggleable__content {max-height: 0;max-width: 0;overflow: hidden;text-align: left;background-color: #f0f8ff;}#sk-container-id-7 div.sk-toggleable__content pre {margin: 0.2em;color: black;border-radius: 0.25em;background-color: #f0f8ff;}#sk-container-id-7 input.sk-toggleable__control:checked~div.sk-toggleable__content {max-height: 200px;max-width: 100%;overflow: auto;}#sk-container-id-7 input.sk-toggleable__control:checked~label.sk-toggleable__label-arrow:before {content: \"▾\";}#sk-container-id-7 div.sk-estimator input.sk-toggleable__control:checked~label.sk-toggleable__label {background-color: #d4ebff;}#sk-container-id-7 div.sk-label input.sk-toggleable__control:checked~label.sk-toggleable__label {background-color: #d4ebff;}#sk-container-id-7 input.sk-hidden--visually {border: 0;clip: rect(1px 1px 1px 1px);clip: rect(1px, 1px, 1px, 1px);height: 1px;margin: -1px;overflow: hidden;padding: 0;position: absolute;width: 1px;}#sk-container-id-7 div.sk-estimator {font-family: monospace;background-color: #f0f8ff;border: 1px dotted black;border-radius: 0.25em;box-sizing: border-box;margin-bottom: 0.5em;}#sk-container-id-7 div.sk-estimator:hover {background-color: #d4ebff;}#sk-container-id-7 div.sk-parallel-item::after {content: \"\";width: 100%;border-bottom: 1px solid gray;flex-grow: 1;}#sk-container-id-7 div.sk-label:hover label.sk-toggleable__label {background-color: #d4ebff;}#sk-container-id-7 div.sk-serial::before {content: \"\";position: absolute;border-left: 1px solid gray;box-sizing: border-box;top: 0;bottom: 0;left: 50%;z-index: 0;}#sk-container-id-7 div.sk-serial {display: flex;flex-direction: column;align-items: center;background-color: white;padding-right: 0.2em;padding-left: 0.2em;position: relative;}#sk-container-id-7 div.sk-item {position: relative;z-index: 1;}#sk-container-id-7 div.sk-parallel {display: flex;align-items: stretch;justify-content: center;background-color: white;position: relative;}#sk-container-id-7 div.sk-item::before, #sk-container-id-7 div.sk-parallel-item::before {content: \"\";position: absolute;border-left: 1px solid gray;box-sizing: border-box;top: 0;bottom: 0;left: 50%;z-index: -1;}#sk-container-id-7 div.sk-parallel-item {display: flex;flex-direction: column;z-index: 1;position: relative;background-color: white;}#sk-container-id-7 div.sk-parallel-item:first-child::after {align-self: flex-end;width: 50%;}#sk-container-id-7 div.sk-parallel-item:last-child::after {align-self: flex-start;width: 50%;}#sk-container-id-7 div.sk-parallel-item:only-child::after {width: 0;}#sk-container-id-7 div.sk-dashed-wrapped {border: 1px dashed gray;margin: 0 0.4em 0.5em 0.4em;box-sizing: border-box;padding-bottom: 0.4em;background-color: white;}#sk-container-id-7 div.sk-label label {font-family: monospace;font-weight: bold;display: inline-block;line-height: 1.2em;}#sk-container-id-7 div.sk-label-container {text-align: center;}#sk-container-id-7 div.sk-container {/* jupyter's `normalize.less` sets `[hidden] { display: none; }` but bootstrap.min.css set `[hidden] { display: none !important; }` so we also need the `!important` here to be able to override the default hidden behavior on the sphinx rendered scikit-learn.org. See: https://github.com/scikit-learn/scikit-learn/issues/21755 */display: inline-block !important;position: relative;}#sk-container-id-7 div.sk-text-repr-fallback {display: none;}</style><div id=\"sk-container-id-7\" class=\"sk-top-container\"><div class=\"sk-text-repr-fallback\"><pre>DecisionTreeClassifier(criterion=&#x27;log_loss&#x27;, max_depth=7, max_leaf_nodes=100,\n",
       "                       random_state=50)</pre><b>In a Jupyter environment, please rerun this cell to show the HTML representation or trust the notebook. <br />On GitHub, the HTML representation is unable to render, please try loading this page with nbviewer.org.</b></div><div class=\"sk-container\" hidden><div class=\"sk-item\"><div class=\"sk-estimator sk-toggleable\"><input class=\"sk-toggleable__control sk-hidden--visually\" id=\"sk-estimator-id-7\" type=\"checkbox\" checked><label for=\"sk-estimator-id-7\" class=\"sk-toggleable__label sk-toggleable__label-arrow\">DecisionTreeClassifier</label><div class=\"sk-toggleable__content\"><pre>DecisionTreeClassifier(criterion=&#x27;log_loss&#x27;, max_depth=7, max_leaf_nodes=100,\n",
       "                       random_state=50)</pre></div></div></div></div></div>"
      ],
      "text/plain": [
       "DecisionTreeClassifier(criterion='log_loss', max_depth=7, max_leaf_nodes=100,\n",
       "                       random_state=50)"
      ]
     },
     "execution_count": 47,
     "metadata": {},
     "output_type": "execute_result"
    }
   ],
   "source": [
    "# lets fit the data \n",
    "DT_log_loss.fit(x_train,y_train)"
   ]
  },
  {
   "cell_type": "code",
   "execution_count": 57,
   "id": "d39334f9-e56c-40c6-9e8a-a6ca3edc8e5d",
   "metadata": {},
   "outputs": [
    {
     "data": {
      "text/plain": [
       "array([0, 0, 0, ..., 0, 0, 0])"
      ]
     },
     "execution_count": 57,
     "metadata": {},
     "output_type": "execute_result"
    }
   ],
   "source": [
    "predict_log_loss =DT_log_loss.predict(x_test)\n",
    "predict_log_loss"
   ]
  },
  {
   "cell_type": "code",
   "execution_count": 63,
   "id": "6d0cbccf-71b2-4ed1-8351-562971c71dfa",
   "metadata": {},
   "outputs": [
    {
     "name": "stdout",
     "output_type": "stream",
     "text": [
      "              precision    recall  f1-score   support\n",
      "\n",
      "           0       0.84      0.98      0.91      2420\n",
      "           1       0.23      0.03      0.05       454\n",
      "\n",
      "    accuracy                           0.83      2874\n",
      "   macro avg       0.54      0.51      0.48      2874\n",
      "weighted avg       0.75      0.83      0.77      2874\n",
      "\n"
     ]
    }
   ],
   "source": [
    "print(classification_report(y_test,predict_log_loss))"
   ]
  },
  {
   "cell_type": "code",
   "execution_count": 64,
   "id": "28f73f73-3844-4e12-ae57-3c5ea2f79f30",
   "metadata": {},
   "outputs": [
    {
     "name": "stdout",
     "output_type": "stream",
     "text": [
      "0.8312456506610996\n"
     ]
    }
   ],
   "source": [
    "print(accuracy_score(y_test,predict_log_loss))"
   ]
  },
  {
   "cell_type": "code",
   "execution_count": 68,
   "id": "a293ad1a-cfbc-4791-b7cc-f6edb7587e31",
   "metadata": {},
   "outputs": [
    {
     "data": {
      "text/plain": [
       "0.8312456506610996"
      ]
     },
     "execution_count": 68,
     "metadata": {},
     "output_type": "execute_result"
    }
   ],
   "source": [
    "Acc_log_loss= accuracy_score(y_test,predict_log_loss)\n",
    "Acc_log_loss"
   ]
  },
  {
   "cell_type": "code",
   "execution_count": 79,
   "id": "4b233e32-d860-4c27-abf1-69a37098837c",
   "metadata": {},
   "outputs": [
    {
     "name": "stdout",
     "output_type": "stream",
     "text": [
      "[[2376   44]\n",
      " [ 441   13]]\n"
     ]
    }
   ],
   "source": [
    "print(confusion_matrix(y_test,predict_log_loss))"
   ]
  },
  {
   "cell_type": "code",
   "execution_count": 95,
   "id": "2f0a9e78-121e-4321-8279-28c3e51d596a",
   "metadata": {},
   "outputs": [],
   "source": [
    "# calculate the cross validation:\n",
    "kfold_log_loss =KFold(n_splits =5,random_state=40,shuffle= True)\n"
   ]
  },
  {
   "cell_type": "code",
   "execution_count": 96,
   "id": "0407c35c-1029-470e-9534-de5f1045d3cc",
   "metadata": {},
   "outputs": [
    {
     "name": "stdout",
     "output_type": "stream",
     "text": [
      "83.34734569953723\n"
     ]
    }
   ],
   "source": [
    "cross_logloss =cross_val_score(DT_log_loss,X,y,cv=kfold_log_loss,scoring='accuracy')\n",
    "print(cross_logloss.mean()*100)"
   ]
  },
  {
   "cell_type": "code",
   "execution_count": 65,
   "id": "c6842405-29b0-4b93-a21c-717f57b0a9d7",
   "metadata": {},
   "outputs": [],
   "source": [
    "#Make a tabulate formate\n",
    "from tabulate import tabulate"
   ]
  },
  {
   "cell_type": "code",
   "execution_count": 71,
   "id": "6987948b-35f7-4ae1-9374-12f14e235891",
   "metadata": {},
   "outputs": [
    {
     "name": "stdout",
     "output_type": "stream",
     "text": [
      "+------+---------------+-----------------------+--------------------------+--------------------------+----------------+---------------------------+\n",
      "|      | Actual vlue   | Gini Accuracy Value   | Entropy Accuracy Value   | Log Loss Accuracy Vaue   | Actual Value   | Log Loss Accuracy Value   |\n",
      "|------+---------------+-----------------------+--------------------------+--------------------------+----------------+---------------------------|\n",
      "| 3409 | nan           | 0.738692              | 0.831246                 | nan                      | 0              | 0.831246                  |\n",
      "| 8289 | nan           | 0.738692              | 0.831246                 | nan                      | 0              | 0.831246                  |\n",
      "| 9293 | nan           | 0.738692              | 0.831246                 | nan                      | 0              | 0.831246                  |\n",
      "| 3839 | nan           | 0.738692              | 0.831246                 | nan                      | 0              | 0.831246                  |\n",
      "| 9050 | nan           | 0.738692              | 0.831246                 | nan                      | 0              | 0.831246                  |\n",
      "| 540  | nan           | 0.738692              | 0.831246                 | nan                      | 0              | 0.831246                  |\n",
      "| 8610 | nan           | 0.738692              | 0.831246                 | nan                      | 1              | 0.831246                  |\n",
      "| 3410 | nan           | 0.738692              | 0.831246                 | nan                      | 0              | 0.831246                  |\n",
      "| 9437 | nan           | 0.738692              | 0.831246                 | nan                      | 0              | 0.831246                  |\n",
      "| 3150 | nan           | 0.738692              | 0.831246                 | nan                      | 0              | 0.831246                  |\n",
      "+------+---------------+-----------------------+--------------------------+--------------------------+----------------+---------------------------+\n"
     ]
    }
   ],
   "source": [
    "prediction_table = pd.DataFrame(columns=[\"Actual vlue\",\"Gini Accuracy Value\", \"Entropy Accuracy Value\",\"Log Loss Accuracy Vaue\"])\n",
    "prediction_table[\"Actual Value\"] = y_test\n",
    "\n",
    "prediction_table[\"Gini Accuracy Value\"] = Acc_gini\n",
    "prediction_table[\"Entropy Accuracy Value\"] = Acc_entropy\n",
    "prediction_table[\"Log Loss Accuracy Value\"] = Acc_log_loss\n",
    "\n",
    "print(tabulate(prediction_table.head(10), headers = 'keys', tablefmt = 'psql', numalign=\"left\"))"
   ]
  },
  {
   "cell_type": "markdown",
   "id": "d70f6a0a-0f04-423e-a49c-eb5604334242",
   "metadata": {},
   "source": [
    "\n",
    "# Conclusion: \n",
    "Decision Tree Accuracy Using GINI= 82%\n",
    "Decision Tree Accuracy Using ENTROPY= 83%\n",
    "Decision Tree Accuracy Using LOG_LOSS=83%\n",
    "cross_gini:82%\n",
    "cross_entropy:83%\n",
    "cross_logloss:83%\n",
    " Hence the model is working perfectly well.\n",
    "it shows that there is no cause of overfitting in the dataset and entropy and logloss creteria hs given a slight more model accuracy as compared to gini creteria.\n",
    "PeerLoan Kart shows 83% chances to repay the loan. "
   ]
  },
  {
   "cell_type": "code",
   "execution_count": null,
   "id": "bed97979-46be-4629-9dd9-fcddd326894d",
   "metadata": {},
   "outputs": [],
   "source": []
  }
 ],
 "metadata": {
  "kernelspec": {
   "display_name": "Python 3 [3.10]",
   "language": "python",
   "name": "python3"
  },
  "language_info": {
   "codemirror_mode": {
    "name": "ipython",
    "version": 3
   },
   "file_extension": ".py",
   "mimetype": "text/x-python",
   "name": "python",
   "nbconvert_exporter": "python",
   "pygments_lexer": "ipython3",
   "version": "3.10.2"
  }
 },
 "nbformat": 4,
 "nbformat_minor": 5
}
